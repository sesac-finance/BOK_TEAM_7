{
 "cells": [
  {
   "cell_type": "markdown",
   "metadata": {},
   "source": [
    "### 2. ekonlpy를 사용해 token, ngram을 구한다."
   ]
  },
  {
   "cell_type": "code",
   "execution_count": 52,
   "metadata": {},
   "outputs": [],
   "source": [
    "import pandas as pd\n",
    "import numpy as np\n",
    "from datetime import datetime\n",
    "\n",
    "# df_1 = pd.read_csv('../datasets/1_article_raw.csv')\n",
    "# df_2 = pd.read_csv('../datasets/1_pdf_2005_2017.csv')\n",
    "# df_3 = pd.read_csv('../datasets/1_minutes_with_label.csv')\n",
    "\n",
    "# del df_1['Unnamed: 0']\n",
    "# del df_1['idx']\n",
    "# del df_1['media']\n",
    "\n",
    "# del df_2['Unnamed: 0']\n",
    "# del df_2['title']\n",
    "# del df_2['company']\n",
    "# del df_2['link']\n",
    "\n",
    "# del df_3['Unnamed: 0']\n",
    "# del df_3['title']\n",
    "# del df_3['ngram']\n",
    "# del df_3['label']\n",
    "\n",
    "# 채권분석 날짜 형변환\n",
    "# df_2['date'] = df_2['date'].apply(lambda x: datetime.strptime(x, '%y.%m.%d').strftime('%Y-%m-%d'))\n",
    "\n",
    "# # 뉴스 & 채권분석리포트 & 금통위 의사록 합치기\n",
    "news_report_mpb = pd.concat([df_1, df_2, df_3])\n",
    "\n",
    "# # 결측값있는 행 제거\n",
    "news_report_mpb = news_report_mpb.dropna(axis=0)\n",
    "news_report_mpb.to_csv('../datasets/2_news_report_mpb.csv', index=False)"
   ]
  },
  {
   "cell_type": "code",
   "execution_count": null,
   "metadata": {
    "scrolled": true
   },
   "outputs": [],
   "source": [
    "import pandas as pd\n",
    "from ekonlpy.tag import Mecab\n",
    "from ekonlpy.sentiment import MPCK\n",
    "\n",
    "mpck = MPCK()\n",
    "\n",
    "pdf = pd.read_csv('../datasets/2_news_report_mpb.csv', index_col=0)\n",
    "\n",
    "print(len(pdf))\n",
    "\n",
    "pdf['ngram'] = ''\n",
    "\n",
    "for idx , sent in zip(pdf.index, pdf['content']):\n",
    "    tokens = []\n",
    "    if (idx % 100) == 0:\n",
    "            print('{}번째 끝'.format(idx)) \n",
    "    for s in sent.split('.'):\n",
    "    \n",
    "        # mpck.tokenize를 사용해 논문에서 사용하는 5개의 품사만 추출해 토큰화 한다. => uni-gram\n",
    "        tokens += mpck.tokenize(s)\n",
    "        # pdf.loc[idx, 'token'] = tokens\n",
    "    print(len(tokens))\n",
    "    # mpck.ngramize를 사용해 bi-gram ~ 5-gram까지 ngram을 나눈다.\n",
    "    ngrams = mpck.ngramize(tokens)\n",
    "    # pdf.loc[idx, 'ngrams'] = ngrams\n",
    "\n",
    "    # 'token'컬럼과 '2-5gram'을 합쳐서 '1~5'그램을 만든다.\n",
    "    pdf['ngram'][idx] = tokens+ngrams\n",
    "\n",
    "pdf.to_csv('../datasets/2_nrm_ngram.csv', index=False)\n",
    "pdf.head()"
   ]
  },
  {
   "cell_type": "markdown",
   "metadata": {},
   "source": [
    "### 2-1. 날짜를 기준으로 리포트와 콜금리의 라벨을 병합한다."
   ]
  },
  {
   "cell_type": "code",
   "execution_count": null,
   "metadata": {},
   "outputs": [],
   "source": [
    "import pandas as pd\n",
    "from datetime import datetime\n",
    "\n",
    "nrm  = pd.read_csv('../datasets/2_nrm_ngram.csv')\n",
    "callrate = pd.read_csv('../datasets/2_callrate_preprocessing.csv')\n",
    "\n",
    "# call금리의 date컬럼의 형식을 바꾸기(YYYY-MM-DD)\n",
    "callrate['date'] = callrate['date'].apply(lambda x: datetime.strptime(x, '%Y.%m.%d').strftime('%Y-%m-%d'))\n",
    "\n",
    "# 콜금리 컬럼을 date와 label만 사용해서 merge하기\n",
    "nrt_call = pd.merge(nrm, callrate[['date', 'label']], on='date')\n",
    "\n",
    "# report와 call 금리 병합 데이터 저장하기\n",
    "nrt_call.to_csv('../datasets/2_nrm_callrate_merge.csv', index=False)"
   ]
  }
 ],
 "metadata": {
  "kernelspec": {
   "display_name": "Python 3.9.6 64-bit",
   "language": "python",
   "name": "python3"
  },
  "language_info": {
   "codemirror_mode": {
    "name": "ipython",
    "version": 3
   },
   "file_extension": ".py",
   "mimetype": "text/x-python",
   "name": "python",
   "nbconvert_exporter": "python",
   "pygments_lexer": "ipython3",
   "version": "3.9.6"
  },
  "vscode": {
   "interpreter": {
    "hash": "31f2aee4e71d21fbe5cf8b01ff0e069b9275f58929596ceb00d14d90e3e16cd6"
   }
  }
 },
 "nbformat": 4,
 "nbformat_minor": 4
}
