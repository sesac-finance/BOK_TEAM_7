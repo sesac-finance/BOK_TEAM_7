{
 "cells": [
  {
   "cell_type": "code",
   "execution_count": 1,
   "metadata": {},
   "outputs": [],
   "source": [
    "import os\n",
    "import re\n",
    "import datetime\n",
    "import pandas as pd\n",
    "import numpy as np\n",
    "from selenium import webdriver\n",
    "from tika import parser\n",
    "from bs4 import BeautifulSoup\n",
    "import requests"
   ]
  },
  {
   "cell_type": "code",
   "execution_count": 2,
   "metadata": {},
   "outputs": [],
   "source": [
    "last_page = 23\n",
    "pages = np.arange(1,last_page +1)\n",
    "\n",
    "path = \"../data/\"\n",
    "\n",
    "if not os.path.exists(path):\n",
    "    os.makedirs(path)\n",
    "\n",
    "options = webdriver.ChromeOptions()\n",
    "options.add_argument(\"--start-maximized\")\n",
    "prefs = {\"profile.default_content_settings.popups\": 0,\n",
    "             \"download.default_directory\": \n",
    "                        path,\n",
    "             \"directory_upgrade\": True}\n",
    "options.add_experimental_option(\"prefs\", prefs)\n",
    "driver=webdriver.Chrome(\"./chromedriver\", options=options)\n",
    "\n",
    "for page in pages:\n",
    "    url = 'http://www.bok.or.kr/portal/bbs/B0000245/list.do?menuNo=200761&pageIndex={}'.format(page)\n",
    "    driver.get(url)\n",
    "    \n",
    "    li_tags = driver.find_elements_by_css_selector('div.type2 li a.secretSet')\n",
    "    n_li_tags = len(li_tags)\n",
    "    for idx in range(n_li_tags):\n",
    "        li_tag = li_tags[idx]\n",
    "        li_tag.click()\n",
    "        name = driver.find_element_by_css_selector('#board > div > dl > dd > div > ul > li:nth-child(1) > a:nth-child(1)').text\n",
    "        if name.split('.')[1] == 'hwp':\n",
    "            try:\n",
    "                driver.find_element_by_css_selector('#board > div > dl > dd > div > ul > li:nth-child(2) > a:nth-child(1)').click()\n",
    "            except:\n",
    "                driver.find_element_by_css_selector('#board > div > dl > dd > div > ul > li > a:nth-child(1)').click()\n",
    "        else:\n",
    "            driver.find_element_by_css_selector('#board > div > dl > dd > div > ul > li:nth-child(1) > a:nth-child(1)').click()\n",
    "        driver.back()\n",
    "        li_tags = driver.find_elements_by_css_selector('div.type2 li a.secretSet') # 페이지가 새로 로드되면 li_tags를 잃어버리므로 다시 할당\n"
   ]
  },
  {
   "cell_type": "code",
   "execution_count": 4,
   "metadata": {},
   "outputs": [
    {
     "name": "stdout",
     "output_type": "stream",
     "text": [
      "['금융통화위원회 의사록(2022년도 제14차).pdf', '금융통화위원회 의사록(2022년도 제18차).pdf', '제13차 금통위 의사록 (1).pdf', '제24차 금통위 의사록 (3).pdf', '제23차 금통위 의사록 (2).pdf', '제9차 금통위 의사록 (6).pdf', '제22차_금통위 의사록 (1).pdf', '제16차 금통위 의사록 (2).pdf', '제12차_금통위 의사록 (2).pdf', '제11차 금통위 의사록 (3).pdf']\n",
      "260\n"
     ]
    }
   ],
   "source": [
    "path = \"../data/\"\n",
    "file_list = os.listdir(path)\n",
    "\n",
    "file_list_pdf = [file for file in file_list if file.endswith(\".pdf\")]\n",
    "file_list_hwp = [file for file in file_list if file.endswith(\".hwp\")]\n",
    "\n",
    "file_list = file_list_pdf + file_list_hwp\n",
    "print(file_list[:10], len(file_list), sep='\\n')"
   ]
  },
  {
   "cell_type": "code",
   "execution_count": 5,
   "metadata": {
    "scrolled": false
   },
   "outputs": [
    {
     "name": "stdout",
     "output_type": "stream",
     "text": [
      "10 / 260 완료\n",
      "20 / 260 완료\n",
      "30 / 260 완료\n",
      "40 / 260 완료\n",
      "50 / 260 완료\n",
      "60 / 260 완료\n",
      "70 / 260 완료\n",
      "80 / 260 완료\n",
      "90 / 260 완료\n",
      "100 / 260 완료\n",
      "110 / 260 완료\n",
      "120 / 260 완료\n",
      "130 / 260 완료\n",
      "140 / 260 완료\n",
      "150 / 260 완료\n",
      "160 / 260 완료\n",
      "170 / 260 완료\n",
      "180 / 260 완료\n",
      "190 / 260 완료\n",
      "200 / 260 완료\n",
      "210 / 260 완료\n",
      "220 / 260 완료\n",
      "230 / 260 완료\n",
      "240 / 260 완료\n",
      "250 / 260 완료\n",
      "260 / 260 완료\n",
      "모든 작업 완료\n"
     ]
    }
   ],
   "source": [
    "dates = []\n",
    "contents = []\n",
    "titles = []\n",
    "\n",
    "i = 1\n",
    "for idx, file in enumerate(file_list):\n",
    "    \n",
    "    raw = parser.from_file('../data/{}'.format(file))\n",
    "    date2 = re.search('\\d{4}[가-힣\\s]+\\d+월? \\d+일?', raw['content']).group()\n",
    "    date2 = '.'.join(re.findall('[0-9]+',date2))\n",
    "        \n",
    "    title = file.split('.')[0]\n",
    "\n",
    "    dates.append(date2)\n",
    "    titles.append(title)\n",
    "    contents.append(raw['content'])\n",
    "\n",
    "    i += 1\n",
    "    if i % 10 == 0:\n",
    "        print(i,'/',len(file_list), '완료')\n",
    "print('모든 작업 완료')"
   ]
  },
  {
   "cell_type": "code",
   "execution_count": 6,
   "metadata": {
    "scrolled": true
   },
   "outputs": [
    {
     "data": {
      "text/html": [
       "<div>\n",
       "<style scoped>\n",
       "    .dataframe tbody tr th:only-of-type {\n",
       "        vertical-align: middle;\n",
       "    }\n",
       "\n",
       "    .dataframe tbody tr th {\n",
       "        vertical-align: top;\n",
       "    }\n",
       "\n",
       "    .dataframe thead th {\n",
       "        text-align: right;\n",
       "    }\n",
       "</style>\n",
       "<table border=\"1\" class=\"dataframe\">\n",
       "  <thead>\n",
       "    <tr style=\"text-align: right;\">\n",
       "      <th></th>\n",
       "      <th>date</th>\n",
       "      <th>title</th>\n",
       "      <th>content</th>\n",
       "    </tr>\n",
       "  </thead>\n",
       "  <tbody>\n",
       "    <tr>\n",
       "      <th>0</th>\n",
       "      <td>2009-11-12</td>\n",
       "      <td>제24차 금통위 의사록 (6)</td>\n",
       "      <td>\\n\\n\\n\\n\\n\\n\\n\\n\\n\\n\\n\\n\\n\\n\\n\\n\\n\\n\\n\\n\\n\\n\\n...</td>\n",
       "    </tr>\n",
       "    <tr>\n",
       "      <th>1</th>\n",
       "      <td>2009-11-26</td>\n",
       "      <td>제25차 금통위 의사록 (6)</td>\n",
       "      <td>\\n\\n\\n\\n\\n\\n\\n\\n\\n\\n\\n\\n\\n\\n\\n\\n\\n\\n\\n\\n\\n\\n\\n...</td>\n",
       "    </tr>\n",
       "    <tr>\n",
       "      <th>2</th>\n",
       "      <td>2009-12-10</td>\n",
       "      <td>제26차 금통위 의사록 (2)</td>\n",
       "      <td>\\n\\n\\n\\n\\n\\n\\n\\n\\n\\n\\n\\n\\n\\n\\n\\n\\n\\n\\n\\n\\n\\n\\n...</td>\n",
       "    </tr>\n",
       "    <tr>\n",
       "      <th>3</th>\n",
       "      <td>2009-12-24</td>\n",
       "      <td>제27차 금통위 의사록 (1)</td>\n",
       "      <td>\\n\\n\\n\\n\\n\\n\\n\\n\\n\\n\\n\\n\\n\\n\\n\\n\\n\\n\\n\\n\\n\\n\\n...</td>\n",
       "    </tr>\n",
       "    <tr>\n",
       "      <th>4</th>\n",
       "      <td>2010-01-07</td>\n",
       "      <td>제1차 금통위 의사록 (8)</td>\n",
       "      <td>\\n\\n\\n\\n\\n\\n\\n\\n\\n\\n\\n\\n\\n\\n\\n\\n\\n\\n\\n\\n\\n\\n\\n...</td>\n",
       "    </tr>\n",
       "    <tr>\n",
       "      <th>...</th>\n",
       "      <td>...</td>\n",
       "      <td>...</td>\n",
       "      <td>...</td>\n",
       "    </tr>\n",
       "    <tr>\n",
       "      <th>255</th>\n",
       "      <td>2022-08-25</td>\n",
       "      <td>금융통화위원회 의사록(2022년도 제16차)</td>\n",
       "      <td>\\n\\n\\n\\n\\n\\n\\n\\n\\n\\n\\n\\n\\n\\n\\n\\n\\n\\n\\n\\n\\n\\n\\n...</td>\n",
       "    </tr>\n",
       "    <tr>\n",
       "      <th>256</th>\n",
       "      <td>2022-09-08</td>\n",
       "      <td>금융통화위원회 의사록(2022년도 제17차)</td>\n",
       "      <td>\\n\\n\\n\\n\\n\\n\\n\\n\\n\\n\\n\\n\\n\\n\\n\\n\\n\\n\\n\\n\\n\\n\\n...</td>\n",
       "    </tr>\n",
       "    <tr>\n",
       "      <th>257</th>\n",
       "      <td>2022-09-22</td>\n",
       "      <td>금융통화위원회 의사록(2022년도 제18차)</td>\n",
       "      <td>\\n\\n\\n\\n\\n\\n\\n\\n\\n\\n\\n\\n\\n\\n\\n\\n\\n\\n\\n\\n\\n\\n\\n...</td>\n",
       "    </tr>\n",
       "    <tr>\n",
       "      <th>258</th>\n",
       "      <td>2022-10-12</td>\n",
       "      <td>금융통화위원회 의사록(2022년도 제19차)</td>\n",
       "      <td>\\n\\n\\n\\n\\n\\n\\n\\n\\n\\n\\n\\n\\n\\n\\n\\n\\n\\n\\n\\n\\n\\n\\n...</td>\n",
       "    </tr>\n",
       "    <tr>\n",
       "      <th>259</th>\n",
       "      <td>2022-10-27</td>\n",
       "      <td>금융통화위원회 의사록(2022년도 제20차)</td>\n",
       "      <td>\\n\\n\\n\\n\\n\\n\\n\\n\\n\\n\\n\\n\\n\\n\\n\\n\\n\\n\\n\\n\\n\\n\\n...</td>\n",
       "    </tr>\n",
       "  </tbody>\n",
       "</table>\n",
       "<p>260 rows × 3 columns</p>\n",
       "</div>"
      ],
      "text/plain": [
       "          date                     title  \\\n",
       "0   2009-11-12          제24차 금통위 의사록 (6)   \n",
       "1   2009-11-26          제25차 금통위 의사록 (6)   \n",
       "2   2009-12-10          제26차 금통위 의사록 (2)   \n",
       "3   2009-12-24          제27차 금통위 의사록 (1)   \n",
       "4   2010-01-07           제1차 금통위 의사록 (8)   \n",
       "..         ...                       ...   \n",
       "255 2022-08-25  금융통화위원회 의사록(2022년도 제16차)   \n",
       "256 2022-09-08  금융통화위원회 의사록(2022년도 제17차)   \n",
       "257 2022-09-22  금융통화위원회 의사록(2022년도 제18차)   \n",
       "258 2022-10-12  금융통화위원회 의사록(2022년도 제19차)   \n",
       "259 2022-10-27  금융통화위원회 의사록(2022년도 제20차)   \n",
       "\n",
       "                                               content  \n",
       "0    \\n\\n\\n\\n\\n\\n\\n\\n\\n\\n\\n\\n\\n\\n\\n\\n\\n\\n\\n\\n\\n\\n\\n...  \n",
       "1    \\n\\n\\n\\n\\n\\n\\n\\n\\n\\n\\n\\n\\n\\n\\n\\n\\n\\n\\n\\n\\n\\n\\n...  \n",
       "2    \\n\\n\\n\\n\\n\\n\\n\\n\\n\\n\\n\\n\\n\\n\\n\\n\\n\\n\\n\\n\\n\\n\\n...  \n",
       "3    \\n\\n\\n\\n\\n\\n\\n\\n\\n\\n\\n\\n\\n\\n\\n\\n\\n\\n\\n\\n\\n\\n\\n...  \n",
       "4    \\n\\n\\n\\n\\n\\n\\n\\n\\n\\n\\n\\n\\n\\n\\n\\n\\n\\n\\n\\n\\n\\n\\n...  \n",
       "..                                                 ...  \n",
       "255  \\n\\n\\n\\n\\n\\n\\n\\n\\n\\n\\n\\n\\n\\n\\n\\n\\n\\n\\n\\n\\n\\n\\n...  \n",
       "256  \\n\\n\\n\\n\\n\\n\\n\\n\\n\\n\\n\\n\\n\\n\\n\\n\\n\\n\\n\\n\\n\\n\\n...  \n",
       "257  \\n\\n\\n\\n\\n\\n\\n\\n\\n\\n\\n\\n\\n\\n\\n\\n\\n\\n\\n\\n\\n\\n\\n...  \n",
       "258  \\n\\n\\n\\n\\n\\n\\n\\n\\n\\n\\n\\n\\n\\n\\n\\n\\n\\n\\n\\n\\n\\n\\n...  \n",
       "259  \\n\\n\\n\\n\\n\\n\\n\\n\\n\\n\\n\\n\\n\\n\\n\\n\\n\\n\\n\\n\\n\\n\\n...  \n",
       "\n",
       "[260 rows x 3 columns]"
      ]
     },
     "execution_count": 6,
     "metadata": {},
     "output_type": "execute_result"
    }
   ],
   "source": [
    "df = pd.DataFrame({'date':dates,'title':titles,'content':contents})\n",
    "\n",
    "df.date = pd.to_datetime(df.date)\n",
    "df = df.sort_values(by='date',ascending=True).reset_index(drop=True)\n",
    "\n",
    "df"
   ]
  },
  {
   "cell_type": "code",
   "execution_count": 7,
   "metadata": {},
   "outputs": [],
   "source": [
    "df.to_csv('../data/MPB.csv', encoding='utf-8-sig', header=True, index=False)"
   ]
  },
  {
   "cell_type": "code",
   "execution_count": 8,
   "metadata": {},
   "outputs": [
    {
     "data": {
      "text/plain": [
       "0     제24차 금통위 의사록 (6)\n",
       "1     제25차 금통위 의사록 (6)\n",
       "2     제26차 금통위 의사록 (2)\n",
       "3     제27차 금통위 의사록 (1)\n",
       "4      제1차 금통위 의사록 (8)\n",
       "5      제2차 금통위 의사록 (5)\n",
       "6      제3차 금통위 의사록 (7)\n",
       "7      제4차 금통위 의사록 (3)\n",
       "8      제6차 금통위 의사록 (7)\n",
       "9      제7차 금통위 의사록 (7)\n",
       "10     제8차 금통위 의사록 (5)\n",
       "11     제9차 금통위 의사록 (6)\n",
       "12    제10차 금통위 의사록 (2)\n",
       "13    제12차 금통위 의사록 (5)\n",
       "14    제13차 금통위 의사록 (7)\n",
       "15    제14차 금통위 의사록 (5)\n",
       "16    제15차 금통위 의사록 (6)\n",
       "17    제16차 금통위 의사록 (4)\n",
       "18    제17차 금통위 의사록 (5)\n",
       "19    제18차 금통위 의사록 (7)\n",
       "Name: title, dtype: object"
      ]
     },
     "execution_count": 8,
     "metadata": {},
     "output_type": "execute_result"
    }
   ],
   "source": [
    "df.title[:20]"
   ]
  },
  {
   "cell_type": "code",
   "execution_count": null,
   "metadata": {},
   "outputs": [],
   "source": []
  }
 ],
 "metadata": {
  "kernelspec": {
   "display_name": "Python 3.9.6 64-bit",
   "language": "python",
   "name": "python3"
  },
  "language_info": {
   "codemirror_mode": {
    "name": "ipython",
    "version": 3
   },
   "file_extension": ".py",
   "mimetype": "text/x-python",
   "name": "python",
   "nbconvert_exporter": "python",
   "pygments_lexer": "ipython3",
   "version": "3.9.6"
  },
  "vscode": {
   "interpreter": {
    "hash": "31f2aee4e71d21fbe5cf8b01ff0e069b9275f58929596ceb00d14d90e3e16cd6"
   }
  }
 },
 "nbformat": 4,
 "nbformat_minor": 4
}
