{
 "cells": [
  {
   "cell_type": "code",
   "execution_count": 5,
   "metadata": {},
   "outputs": [],
   "source": [
    "import os\n",
    "import re\n",
    "import datetime\n",
    "import pandas as pd\n",
    "import numpy as np\n",
    "from selenium import webdriver\n",
    "from selenium.webdriver.common.by import By\n",
    "\n",
    "from tika import parser\n",
    "from bs4 import BeautifulSoup\n",
    "import requests"
   ]
  },
  {
   "cell_type": "code",
   "execution_count": 6,
   "metadata": {},
   "outputs": [
    {
     "name": "stderr",
     "output_type": "stream",
     "text": [
      "/var/folders/85/178rxd5d5b31szqc8b3mznd40000gn/T/ipykernel_7520/3465109593.py:16: DeprecationWarning: executable_path has been deprecated, please pass in a Service object\n",
      "  driver=webdriver.Chrome(\"./chromedriver\", options=options)\n"
     ]
    }
   ],
   "source": [
    "last_page = 23\n",
    "pages = np.arange(1,last_page +1)\n",
    "\n",
    "path = \"../data/\"\n",
    "\n",
    "if not os.path.exists(path):\n",
    "    os.makedirs(path)\n",
    "\n",
    "options = webdriver.ChromeOptions()\n",
    "options.add_argument(\"--start-maximized\")\n",
    "prefs = {\"profile.default_content_settings.popups\": 0,\n",
    "             \"download.default_directory\": \n",
    "                        path,\n",
    "             \"directory_upgrade\": True}\n",
    "options.add_experimental_option(\"prefs\", prefs)\n",
    "driver=webdriver.Chrome(\"./chromedriver\", options=options)\n",
    "\n",
    "for page in pages:\n",
    "    url = 'http://www.bok.or.kr/portal/bbs/B0000245/list.do?menuNo=200761&pageIndex={}'.format(page)\n",
    "    driver.get(url)\n",
    "    \n",
    "    li_tags = driver.find_elements(By.CSS_SELECTOR,'div.type2 li a.secretSet')\n",
    "    n_li_tags = len(li_tags)\n",
    "    for idx in range(n_li_tags):\n",
    "        li_tag = li_tags[idx]\n",
    "        li_tag.click()\n",
    "        name = driver.find_element(By.CSS_SELECTOR,'#board > div > dl > dd > div > ul > li:nth-child(1) > a:nth-child(1)').text\n",
    "        if name.split('.')[1] == 'hwp':\n",
    "            try:\n",
    "                driver.find_element(By.CSS_SELECTOR,'#board > div > dl > dd > div > ul > li:nth-child(2) > a:nth-child(1)').click()\n",
    "            except:\n",
    "                driver.find_element(By.CSS_SELECTOR,'#board > div > dl > dd > div > ul > li > a:nth-child(1)').click()\n",
    "        else:\n",
    "            driver.find_element(By.CSS_SELECTOR,'#board > div > dl > dd > div > ul > li:nth-child(1) > a:nth-child(1)').click()\n",
    "        driver.back()\n",
    "        li_tags = driver.find_elements(By.CSS_SELECTOR,'div.type2 li a.secretSet') \n"
   ]
  },
  {
   "cell_type": "code",
   "execution_count": 7,
   "metadata": {},
   "outputs": [
    {
     "name": "stdout",
     "output_type": "stream",
     "text": [
      "['금융통화위원회 의사록(2022년도 제14차).pdf', '금융통화위원회 의사록(2022년도 제18차).pdf', '제13차 금통위 의사록 (1).pdf', '제24차 금통위 의사록 (3).pdf', '제23차 금통위 의사록 (2).pdf', '제22차_금통위 의사록 (1).pdf', '제16차 금통위 의사록 (2).pdf', '제12차_금통위 의사록 (2).pdf', '제11차 금통위 의사록 (3).pdf', '제7차 금통위 의사록 (4).pdf']\n",
      "230\n"
     ]
    }
   ],
   "source": [
    "path = '../data/'\n",
    "file_list = os.listdir(path)\n",
    "\n",
    "file_list_pdf = [file for file in file_list if file.endswith(\".pdf\")]\n",
    "file_list_hwp = [file for file in file_list if file.endswith(\".hwp\")]\n",
    "\n",
    "file_list = file_list_pdf + file_list_hwp\n",
    "print(file_list[:10], len(file_list), sep='\\n')"
   ]
  },
  {
   "cell_type": "code",
   "execution_count": 8,
   "metadata": {
    "scrolled": false
   },
   "outputs": [
    {
     "name": "stderr",
     "output_type": "stream",
     "text": [
      "2022-11-24 09:46:50,889 [MainThread  ] [INFO ]  Retrieving http://search.maven.org/remotecontent?filepath=org/apache/tika/tika-server/1.24/tika-server-1.24.jar to /var/folders/85/178rxd5d5b31szqc8b3mznd40000gn/T/tika-server.jar.\n",
      "2022-11-24 09:47:01,228 [MainThread  ] [INFO ]  Retrieving http://search.maven.org/remotecontent?filepath=org/apache/tika/tika-server/1.24/tika-server-1.24.jar.md5 to /var/folders/85/178rxd5d5b31szqc8b3mznd40000gn/T/tika-server.jar.md5.\n",
      "2022-11-24 09:47:02,361 [MainThread  ] [WARNI]  Failed to see startup log message; retrying...\n"
     ]
    },
    {
     "name": "stdout",
     "output_type": "stream",
     "text": [
      "10 / 230 완료\n",
      "20 / 230 완료\n",
      "30 / 230 완료\n",
      "40 / 230 완료\n",
      "50 / 230 완료\n",
      "60 / 230 완료\n",
      "70 / 230 완료\n",
      "80 / 230 완료\n",
      "90 / 230 완료\n",
      "100 / 230 완료\n",
      "110 / 230 완료\n",
      "120 / 230 완료\n",
      "130 / 230 완료\n",
      "140 / 230 완료\n",
      "150 / 230 완료\n",
      "160 / 230 완료\n",
      "170 / 230 완료\n",
      "180 / 230 완료\n",
      "190 / 230 완료\n",
      "200 / 230 완료\n",
      "210 / 230 완료\n",
      "220 / 230 완료\n",
      "230 / 230 완료\n",
      "모든 작업 완료\n"
     ]
    }
   ],
   "source": [
    "dates = []\n",
    "contents = []\n",
    "titles = []\n",
    "\n",
    "i = 1\n",
    "for idx, file in enumerate(file_list):\n",
    "    \n",
    "    raw = parser.from_file('../data/{}'.format(file))\n",
    "    date2 = re.search('\\d{4}[가-힣\\s]+\\d+월? \\d+일?', raw['content']).group()\n",
    "    date2 = '.'.join(re.findall('[0-9]+',date2))\n",
    "        \n",
    "    title = file.split('.')[0]\n",
    "\n",
    "    dates.append(date2)\n",
    "    titles.append(title)\n",
    "    contents.append(raw['content'])\n",
    "\n",
    "    i += 1\n",
    "    if i % 10 == 0:\n",
    "        print(i,'/',len(file_list), '완료')\n",
    "print('모든 작업 완료')"
   ]
  },
  {
   "cell_type": "code",
   "execution_count": 9,
   "metadata": {
    "scrolled": true
   },
   "outputs": [
    {
     "data": {
      "text/html": [
       "<div>\n",
       "<style scoped>\n",
       "    .dataframe tbody tr th:only-of-type {\n",
       "        vertical-align: middle;\n",
       "    }\n",
       "\n",
       "    .dataframe tbody tr th {\n",
       "        vertical-align: top;\n",
       "    }\n",
       "\n",
       "    .dataframe thead th {\n",
       "        text-align: right;\n",
       "    }\n",
       "</style>\n",
       "<table border=\"1\" class=\"dataframe\">\n",
       "  <thead>\n",
       "    <tr style=\"text-align: right;\">\n",
       "      <th></th>\n",
       "      <th>date</th>\n",
       "      <th>title</th>\n",
       "      <th>content</th>\n",
       "    </tr>\n",
       "  </thead>\n",
       "  <tbody>\n",
       "    <tr>\n",
       "      <th>0</th>\n",
       "      <td>2011-03-10</td>\n",
       "      <td>제7차 금통위 의사록 (6)</td>\n",
       "      <td>\\n\\n\\n\\n\\n\\n\\n\\n\\n\\n\\n\\n\\n\\n\\n\\n\\n\\n\\n\\n\\n\\n\\n...</td>\n",
       "    </tr>\n",
       "    <tr>\n",
       "      <th>1</th>\n",
       "      <td>2011-03-24</td>\n",
       "      <td>제8차 금통위 의사록 (4)</td>\n",
       "      <td>\\n\\n\\n\\n\\n\\n\\n\\n\\n\\n\\n\\n\\n\\n\\n\\n\\n\\n\\n\\n\\n\\n\\n...</td>\n",
       "    </tr>\n",
       "    <tr>\n",
       "      <th>2</th>\n",
       "      <td>2011-04-12</td>\n",
       "      <td>제9차 금통위 의사록 (5)</td>\n",
       "      <td>\\n\\n\\n\\n\\n\\n\\n\\n\\n\\n\\n\\n\\n\\n\\n\\n\\n\\n\\n\\n\\n\\n\\n...</td>\n",
       "    </tr>\n",
       "    <tr>\n",
       "      <th>3</th>\n",
       "      <td>2011-05-13</td>\n",
       "      <td>제13차 금통위 의사록 (6)</td>\n",
       "      <td>\\n\\n\\n\\n\\n\\n\\n\\n\\n\\n\\n\\n\\n\\n\\n\\n\\n\\n\\n\\n\\n\\n\\n...</td>\n",
       "    </tr>\n",
       "    <tr>\n",
       "      <th>4</th>\n",
       "      <td>2011-06-10</td>\n",
       "      <td>제15차 금통위 의사록 (5)</td>\n",
       "      <td>\\n\\n\\n\\n\\n\\n\\n\\n\\n\\n\\n\\n\\n\\n\\n\\n\\n\\n\\n\\n\\n\\n\\n...</td>\n",
       "    </tr>\n",
       "    <tr>\n",
       "      <th>...</th>\n",
       "      <td>...</td>\n",
       "      <td>...</td>\n",
       "      <td>...</td>\n",
       "    </tr>\n",
       "    <tr>\n",
       "      <th>225</th>\n",
       "      <td>2022-08-25</td>\n",
       "      <td>금융통화위원회 의사록(2022년도 제16차)</td>\n",
       "      <td>\\n\\n\\n\\n\\n\\n\\n\\n\\n\\n\\n\\n\\n\\n\\n\\n\\n\\n\\n\\n\\n\\n\\n...</td>\n",
       "    </tr>\n",
       "    <tr>\n",
       "      <th>226</th>\n",
       "      <td>2022-09-08</td>\n",
       "      <td>금융통화위원회 의사록(2022년도 제17차)</td>\n",
       "      <td>\\n\\n\\n\\n\\n\\n\\n\\n\\n\\n\\n\\n\\n\\n\\n\\n\\n\\n\\n\\n\\n\\n\\n...</td>\n",
       "    </tr>\n",
       "    <tr>\n",
       "      <th>227</th>\n",
       "      <td>2022-09-22</td>\n",
       "      <td>금융통화위원회 의사록(2022년도 제18차)</td>\n",
       "      <td>\\n\\n\\n\\n\\n\\n\\n\\n\\n\\n\\n\\n\\n\\n\\n\\n\\n\\n\\n\\n\\n\\n\\n...</td>\n",
       "    </tr>\n",
       "    <tr>\n",
       "      <th>228</th>\n",
       "      <td>2022-10-12</td>\n",
       "      <td>금융통화위원회 의사록(2022년도 제19차)</td>\n",
       "      <td>\\n\\n\\n\\n\\n\\n\\n\\n\\n\\n\\n\\n\\n\\n\\n\\n\\n\\n\\n\\n\\n\\n\\n...</td>\n",
       "    </tr>\n",
       "    <tr>\n",
       "      <th>229</th>\n",
       "      <td>2022-10-27</td>\n",
       "      <td>금융통화위원회 의사록(2022년도 제20차)</td>\n",
       "      <td>\\n\\n\\n\\n\\n\\n\\n\\n\\n\\n\\n\\n\\n\\n\\n\\n\\n\\n\\n\\n\\n\\n\\n...</td>\n",
       "    </tr>\n",
       "  </tbody>\n",
       "</table>\n",
       "<p>230 rows × 3 columns</p>\n",
       "</div>"
      ],
      "text/plain": [
       "          date                     title  \\\n",
       "0   2011-03-10           제7차 금통위 의사록 (6)   \n",
       "1   2011-03-24           제8차 금통위 의사록 (4)   \n",
       "2   2011-04-12           제9차 금통위 의사록 (5)   \n",
       "3   2011-05-13          제13차 금통위 의사록 (6)   \n",
       "4   2011-06-10          제15차 금통위 의사록 (5)   \n",
       "..         ...                       ...   \n",
       "225 2022-08-25  금융통화위원회 의사록(2022년도 제16차)   \n",
       "226 2022-09-08  금융통화위원회 의사록(2022년도 제17차)   \n",
       "227 2022-09-22  금융통화위원회 의사록(2022년도 제18차)   \n",
       "228 2022-10-12  금융통화위원회 의사록(2022년도 제19차)   \n",
       "229 2022-10-27  금융통화위원회 의사록(2022년도 제20차)   \n",
       "\n",
       "                                               content  \n",
       "0    \\n\\n\\n\\n\\n\\n\\n\\n\\n\\n\\n\\n\\n\\n\\n\\n\\n\\n\\n\\n\\n\\n\\n...  \n",
       "1    \\n\\n\\n\\n\\n\\n\\n\\n\\n\\n\\n\\n\\n\\n\\n\\n\\n\\n\\n\\n\\n\\n\\n...  \n",
       "2    \\n\\n\\n\\n\\n\\n\\n\\n\\n\\n\\n\\n\\n\\n\\n\\n\\n\\n\\n\\n\\n\\n\\n...  \n",
       "3    \\n\\n\\n\\n\\n\\n\\n\\n\\n\\n\\n\\n\\n\\n\\n\\n\\n\\n\\n\\n\\n\\n\\n...  \n",
       "4    \\n\\n\\n\\n\\n\\n\\n\\n\\n\\n\\n\\n\\n\\n\\n\\n\\n\\n\\n\\n\\n\\n\\n...  \n",
       "..                                                 ...  \n",
       "225  \\n\\n\\n\\n\\n\\n\\n\\n\\n\\n\\n\\n\\n\\n\\n\\n\\n\\n\\n\\n\\n\\n\\n...  \n",
       "226  \\n\\n\\n\\n\\n\\n\\n\\n\\n\\n\\n\\n\\n\\n\\n\\n\\n\\n\\n\\n\\n\\n\\n...  \n",
       "227  \\n\\n\\n\\n\\n\\n\\n\\n\\n\\n\\n\\n\\n\\n\\n\\n\\n\\n\\n\\n\\n\\n\\n...  \n",
       "228  \\n\\n\\n\\n\\n\\n\\n\\n\\n\\n\\n\\n\\n\\n\\n\\n\\n\\n\\n\\n\\n\\n\\n...  \n",
       "229  \\n\\n\\n\\n\\n\\n\\n\\n\\n\\n\\n\\n\\n\\n\\n\\n\\n\\n\\n\\n\\n\\n\\n...  \n",
       "\n",
       "[230 rows x 3 columns]"
      ]
     },
     "execution_count": 9,
     "metadata": {},
     "output_type": "execute_result"
    }
   ],
   "source": [
    "df = pd.DataFrame({'date':dates,'title':titles,'content':contents})\n",
    "\n",
    "df.date = pd.to_datetime(df.date)\n",
    "df = df.sort_values(by='date',ascending=True).reset_index(drop=True)\n",
    "\n",
    "df"
   ]
  },
  {
   "cell_type": "code",
   "execution_count": 10,
   "metadata": {},
   "outputs": [],
   "source": [
    "df.to_csv('../data/bok_data.csv', encoding='utf-8-sig', header=True, index=False)"
   ]
  },
  {
   "cell_type": "code",
   "execution_count": null,
   "metadata": {},
   "outputs": [],
   "source": []
  }
 ],
 "metadata": {
  "kernelspec": {
   "display_name": "Python 3.9.6 64-bit",
   "language": "python",
   "name": "python3"
  },
  "language_info": {
   "codemirror_mode": {
    "name": "ipython",
    "version": 3
   },
   "file_extension": ".py",
   "mimetype": "text/x-python",
   "name": "python",
   "nbconvert_exporter": "python",
   "pygments_lexer": "ipython3",
   "version": "3.9.6"
  },
  "vscode": {
   "interpreter": {
    "hash": "31f2aee4e71d21fbe5cf8b01ff0e069b9275f58929596ceb00d14d90e3e16cd6"
   }
  }
 },
 "nbformat": 4,
 "nbformat_minor": 4
}
