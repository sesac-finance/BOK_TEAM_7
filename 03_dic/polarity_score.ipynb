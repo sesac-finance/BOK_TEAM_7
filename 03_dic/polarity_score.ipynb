{
 "cells": [
  {
   "cell_type": "code",
   "execution_count": 1,
   "metadata": {},
   "outputs": [],
   "source": [
    "import pandas as pd\n",
    "import numpy as np\n",
    "from collections import Counter\n",
    "from tqdm.notebook import tqdm"
   ]
  },
  {
   "cell_type": "code",
   "execution_count": 2,
   "metadata": {},
   "outputs": [],
   "source": [
    "df = pd.read_csv('../data/all_data_label_merge.csv')\n",
    "# df = df.loc[:4999]"
   ]
  },
  {
   "cell_type": "code",
   "execution_count": 3,
   "metadata": {},
   "outputs": [],
   "source": [
    "def get_freq(DF):\n",
    "    words_list = []\n",
    "    try:\n",
    "        for idx, words in enumerate(DF.ngram):\n",
    "            words_list.extend(words.replace('[','').replace(']','').replace('\\'','').replace(' ','').split(','))\n",
    "    except:\n",
    "        print(idx)\n",
    "        pass\n",
    "    freq_counter = Counter(words_list)\n",
    "    \n",
    "    return freq_counter"
   ]
  },
  {
   "cell_type": "code",
   "execution_count": 4,
   "metadata": {},
   "outputs": [],
   "source": [
    "up_df = df[df['label'] == 'up']\n",
    "down_df = df[df['label'] == 'down']\n",
    "\n",
    "up_counter = get_freq(up_df)\n",
    "down_counter = get_freq(down_df)\n",
    "\n",
    "total_ngram = set(get_freq(df).keys())"
   ]
  },
  {
   "cell_type": "code",
   "execution_count": 5,
   "metadata": {},
   "outputs": [
    {
     "data": {
      "application/vnd.jupyter.widget-view+json": {
       "model_id": "ed0d6bdb7d884c7ab767d29004a0c734",
       "version_major": 2,
       "version_minor": 0
      },
      "text/plain": [
       "0it [00:00, ?it/s]"
      ]
     },
     "metadata": {},
     "output_type": "display_data"
    }
   ],
   "source": [
    "df_score = pd.DataFrame(columns=['ngram','up_count','down_count'])\n",
    "df_score.ngram = list(total_ngram)\n",
    "\n",
    "for row, ngram in tqdm(enumerate(df_score.ngram)):\n",
    "    df_score.loc[row,'up_count'] = up_counter[ngram]\n",
    "    df_score.loc[row,'down_count'] = down_counter[ngram]\n",
    "\n",
    "df_score['total_count'] = df_score['up_count'] + df_score['down_count']"
   ]
  },
  {
   "cell_type": "code",
   "execution_count": 6,
   "metadata": {},
   "outputs": [],
   "source": [
    "df_score.drop(df_score.index[df_score[df_score.total_count<15].index], inplace=True)"
   ]
  },
  {
   "cell_type": "code",
   "execution_count": 7,
   "metadata": {},
   "outputs": [
    {
     "data": {
      "text/html": [
       "<div>\n",
       "<style scoped>\n",
       "    .dataframe tbody tr th:only-of-type {\n",
       "        vertical-align: middle;\n",
       "    }\n",
       "\n",
       "    .dataframe tbody tr th {\n",
       "        vertical-align: top;\n",
       "    }\n",
       "\n",
       "    .dataframe thead th {\n",
       "        text-align: right;\n",
       "    }\n",
       "</style>\n",
       "<table border=\"1\" class=\"dataframe\">\n",
       "  <thead>\n",
       "    <tr style=\"text-align: right;\">\n",
       "      <th></th>\n",
       "      <th>ngram</th>\n",
       "      <th>up_count</th>\n",
       "      <th>down_count</th>\n",
       "      <th>total_count</th>\n",
       "    </tr>\n",
       "  </thead>\n",
       "  <tbody>\n",
       "    <tr>\n",
       "      <th>1203</th>\n",
       "      <td>금리/NNG;상승/NNG;시장/NNG;약세/NNG</td>\n",
       "      <td>8</td>\n",
       "      <td>7</td>\n",
       "      <td>15</td>\n",
       "    </tr>\n",
       "    <tr>\n",
       "      <th>26227</th>\n",
       "      <td>경기/NNG;판단/NNG;개선/NNG</td>\n",
       "      <td>8</td>\n",
       "      <td>7</td>\n",
       "      <td>15</td>\n",
       "    </tr>\n",
       "    <tr>\n",
       "      <th>5080</th>\n",
       "      <td>악화/NNG;감소/NNG</td>\n",
       "      <td>7</td>\n",
       "      <td>8</td>\n",
       "      <td>15</td>\n",
       "    </tr>\n",
       "    <tr>\n",
       "      <th>30565</th>\n",
       "      <td>신용등급/NNG;강등/NNG;등급/NNG;전망/NNG;부정적/VAX</td>\n",
       "      <td>6</td>\n",
       "      <td>9</td>\n",
       "      <td>15</td>\n",
       "    </tr>\n",
       "    <tr>\n",
       "      <th>27508</th>\n",
       "      <td>잠재/NNG;불확실성/NNG</td>\n",
       "      <td>10</td>\n",
       "      <td>5</td>\n",
       "      <td>15</td>\n",
       "    </tr>\n",
       "    <tr>\n",
       "      <th>...</th>\n",
       "      <td>...</td>\n",
       "      <td>...</td>\n",
       "      <td>...</td>\n",
       "      <td>...</td>\n",
       "    </tr>\n",
       "    <tr>\n",
       "      <th>24901</th>\n",
       "      <td>금리/NNG;상승/NNG</td>\n",
       "      <td>2737</td>\n",
       "      <td>2271</td>\n",
       "      <td>5008</td>\n",
       "    </tr>\n",
       "    <tr>\n",
       "      <th>3093</th>\n",
       "      <td>금리/NNG;인하/NNG</td>\n",
       "      <td>2954</td>\n",
       "      <td>5184</td>\n",
       "      <td>8138</td>\n",
       "    </tr>\n",
       "    <tr>\n",
       "      <th>7970</th>\n",
       "      <td>fed/NNG;금리/NNG;인상/NNG</td>\n",
       "      <td>5899</td>\n",
       "      <td>5076</td>\n",
       "      <td>10975</td>\n",
       "    </tr>\n",
       "    <tr>\n",
       "      <th>0</th>\n",
       "      <td></td>\n",
       "      <td>5932</td>\n",
       "      <td>6727</td>\n",
       "      <td>12659</td>\n",
       "    </tr>\n",
       "    <tr>\n",
       "      <th>10098</th>\n",
       "      <td>금리/NNG;인상/NNG</td>\n",
       "      <td>7484</td>\n",
       "      <td>5571</td>\n",
       "      <td>13055</td>\n",
       "    </tr>\n",
       "  </tbody>\n",
       "</table>\n",
       "<p>13346 rows × 4 columns</p>\n",
       "</div>"
      ],
      "text/plain": [
       "                                       ngram up_count down_count total_count\n",
       "1203             금리/NNG;상승/NNG;시장/NNG;약세/NNG        8          7          15\n",
       "26227                   경기/NNG;판단/NNG;개선/NNG        8          7          15\n",
       "5080                           악화/NNG;감소/NNG        7          8          15\n",
       "30565  신용등급/NNG;강등/NNG;등급/NNG;전망/NNG;부정적/VAX        6          9          15\n",
       "27508                        잠재/NNG;불확실성/NNG       10          5          15\n",
       "...                                      ...      ...        ...         ...\n",
       "24901                          금리/NNG;상승/NNG     2737       2271        5008\n",
       "3093                           금리/NNG;인하/NNG     2954       5184        8138\n",
       "7970                   fed/NNG;금리/NNG;인상/NNG     5899       5076       10975\n",
       "0                                                5932       6727       12659\n",
       "10098                          금리/NNG;인상/NNG     7484       5571       13055\n",
       "\n",
       "[13346 rows x 4 columns]"
      ]
     },
     "execution_count": 7,
     "metadata": {},
     "output_type": "execute_result"
    }
   ],
   "source": [
    "df_score.sort_values(by='total_count', ascending=True)"
   ]
  },
  {
   "cell_type": "code",
   "execution_count": 8,
   "metadata": {},
   "outputs": [
    {
     "name": "stderr",
     "output_type": "stream",
     "text": [
      "/var/folders/85/178rxd5d5b31szqc8b3mznd40000gn/T/ipykernel_2694/4211945582.py:10: DeprecationWarning: `np.float` is a deprecated alias for the builtin `float`. To silence this warning, use `float` by itself. Doing this will not modify any behavior and is safe. If you specifically wanted the numpy scalar type, use `np.float64` here.\n",
      "Deprecated in NumPy 1.20; for more details and guidance: https://numpy.org/devdocs/release/1.20.0-notes.html#deprecations\n",
      "  df_score['polar_score'] = p_hawkish.map(lambda x: np.float(x))/p_dovish.map(lambda x: np.float(x))\n"
     ]
    }
   ],
   "source": [
    "# p_hawkish = sum(df_score.up_count)/sum(df_score.total_count)\n",
    "# p_dovish = sum(df_score.down_count)/sum(df_score.total_count)\n",
    "\n",
    "n_hawkish = sum(df_score.up_count)\n",
    "n_dovish = sum(df_score.down_count)\n",
    "\n",
    "p_hawkish = df_score.up_count/n_hawkish\n",
    "p_dovish = df_score.down_count/n_dovish\n",
    "\n",
    "df_score['polar_score'] = p_hawkish.map(lambda x: np.float(x))/p_dovish.map(lambda x: np.float(x))\n",
    "df_score['polarity'] = np.where(df_score['polar_score'] > (1.3/1), 'Hawkish', np.where(df_score['polar_score'] < (1/1.3), 'Dovish','nothing'))"
   ]
  },
  {
   "cell_type": "code",
   "execution_count": 9,
   "metadata": {},
   "outputs": [],
   "source": [
    "df_score.reset_index(drop=True, inplace=True)"
   ]
  },
  {
   "cell_type": "code",
   "execution_count": 10,
   "metadata": {},
   "outputs": [],
   "source": [
    "hawk_dic = df_score[df_score.polarity == 'Hawkish'].reset_index(drop=True)\n",
    "dove_dic = df_score[df_score.polarity == 'Dovish'].reset_index(drop=True)\n",
    "\n",
    "hawk_dic.to_csv('../data/hawk_dic.csv',index = False)\n",
    "dove_dic.to_csv('../data/dove_dic.csv',index = False)"
   ]
  },
  {
   "cell_type": "code",
   "execution_count": null,
   "metadata": {},
   "outputs": [],
   "source": []
  }
 ],
 "metadata": {
  "kernelspec": {
   "display_name": "Python 3.9.6 64-bit",
   "language": "python",
   "name": "python3"
  },
  "language_info": {
   "codemirror_mode": {
    "name": "ipython",
    "version": 3
   },
   "file_extension": ".py",
   "mimetype": "text/x-python",
   "name": "python",
   "nbconvert_exporter": "python",
   "pygments_lexer": "ipython3",
   "version": "3.9.6"
  },
  "vscode": {
   "interpreter": {
    "hash": "31f2aee4e71d21fbe5cf8b01ff0e069b9275f58929596ceb00d14d90e3e16cd6"
   }
  }
 },
 "nbformat": 4,
 "nbformat_minor": 4
}
