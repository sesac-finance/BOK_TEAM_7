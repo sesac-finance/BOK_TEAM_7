{
 "cells": [
  {
   "cell_type": "code",
   "execution_count": 197,
   "metadata": {},
   "outputs": [],
   "source": [
    "import pandas as pd\n",
    "import numpy as np\n",
    "from ekonlpy.sentiment import MPCK\n",
    "mpck = MPCK()"
   ]
  },
  {
   "cell_type": "code",
   "execution_count": 198,
   "metadata": {},
   "outputs": [],
   "source": [
    "hawk = pd.read_csv('../data/hawk_dic.csv')\n",
    "dove = pd.read_csv('../data/dove_dic.csv')"
   ]
  },
  {
   "cell_type": "code",
   "execution_count": 199,
   "metadata": {},
   "outputs": [],
   "source": [
    "minutes = pd.read_csv('../data/bok_label_merge_content.csv', index_col = 0).dropna().reset_index(drop=True)"
   ]
  },
  {
   "cell_type": "code",
   "execution_count": 200,
   "metadata": {},
   "outputs": [],
   "source": [
    "minutes['ngram'] = minutes.ngram.apply(lambda x: x.replace('[','').replace(']','').replace('\\'','').replace(' ','').split(','))"
   ]
  },
  {
   "cell_type": "code",
   "execution_count": 201,
   "metadata": {},
   "outputs": [
    {
     "data": {
      "text/html": [
       "<div>\n",
       "<style scoped>\n",
       "    .dataframe tbody tr th:only-of-type {\n",
       "        vertical-align: middle;\n",
       "    }\n",
       "\n",
       "    .dataframe tbody tr th {\n",
       "        vertical-align: top;\n",
       "    }\n",
       "\n",
       "    .dataframe thead th {\n",
       "        text-align: right;\n",
       "    }\n",
       "</style>\n",
       "<table border=\"1\" class=\"dataframe\">\n",
       "  <thead>\n",
       "    <tr style=\"text-align: right;\">\n",
       "      <th></th>\n",
       "      <th>date</th>\n",
       "      <th>content</th>\n",
       "      <th>ngram</th>\n",
       "      <th>label</th>\n",
       "    </tr>\n",
       "  </thead>\n",
       "  <tbody>\n",
       "    <tr>\n",
       "      <th>0</th>\n",
       "      <td>2012-01-13</td>\n",
       "      <td>(['일부 위원은 최근 건설투자 등 일부 경제지표  가 지난해 12월 예상했던 것보...</td>\n",
       "      <td>[당분간/MAG;수요측면/NNG;물가/NNG;상승/NNG;압력/NNG, 물가/NNG...</td>\n",
       "      <td>up</td>\n",
       "    </tr>\n",
       "    <tr>\n",
       "      <th>1</th>\n",
       "      <td>2012-01-26</td>\n",
       "      <td>([], [], [], [], [], [])</td>\n",
       "      <td>[]</td>\n",
       "      <td>up</td>\n",
       "    </tr>\n",
       "    <tr>\n",
       "      <th>2</th>\n",
       "      <td>2012-02-09</td>\n",
       "      <td>(['일부 위원은 최근 국내경제의 성장 모멘  텀이 다소 약화되고 있으며, 특히 소...</td>\n",
       "      <td>[인플레이션/NNG;기대/NNG;지역/NNG;지정학/NNG;위험/NNG, 경제/NN...</td>\n",
       "      <td>same</td>\n",
       "    </tr>\n",
       "    <tr>\n",
       "      <th>3</th>\n",
       "      <td>2012-03-08</td>\n",
       "      <td>(['일부 위원은 최근의 선진국 및 개도국  경제상황 변화와 관련하여 우리나라의 1...</td>\n",
       "      <td>[농산물/NNG;제외/NNG;근원/NNG;인플레이션/NNG;하락/NNG, 인플레이션...</td>\n",
       "      <td>down</td>\n",
       "    </tr>\n",
       "    <tr>\n",
       "      <th>4</th>\n",
       "      <td>2012-03-22</td>\n",
       "      <td>([], [], [], [], [], [])</td>\n",
       "      <td>[]</td>\n",
       "      <td>same</td>\n",
       "    </tr>\n",
       "    <tr>\n",
       "      <th>...</th>\n",
       "      <td>...</td>\n",
       "      <td>...</td>\n",
       "      <td>...</td>\n",
       "      <td>...</td>\n",
       "    </tr>\n",
       "    <tr>\n",
       "      <th>207</th>\n",
       "      <td>2022-08-25</td>\n",
       "      <td>(['일부 위원은 우리나라와 미국에서 주거비 변동이 물가에 어떠한 영향을 미치  고...</td>\n",
       "      <td>[국제/NNG;유가/NNG;원자재/NNG;가격/NNG;하락/NNG, 금리/NNG;인...</td>\n",
       "      <td>up</td>\n",
       "    </tr>\n",
       "    <tr>\n",
       "      <th>208</th>\n",
       "      <td>2022-09-08</td>\n",
       "      <td>([], [], [], [], [], [])</td>\n",
       "      <td>[]</td>\n",
       "      <td>up</td>\n",
       "    </tr>\n",
       "    <tr>\n",
       "      <th>209</th>\n",
       "      <td>2022-09-22</td>\n",
       "      <td>([], [], [], [], [], [])</td>\n",
       "      <td>[]</td>\n",
       "      <td>up</td>\n",
       "    </tr>\n",
       "    <tr>\n",
       "      <th>210</th>\n",
       "      <td>2022-10-12</td>\n",
       "      <td>(['일부 위원은 경제전망 시 금리지표로 어떠한 시장금리를 사용하는지, 그리고  금...</td>\n",
       "      <td>[물가/NNG;상승률/NNG;국제/NNG;유가/NNG;하락/NNG, 글로벌/NNG;...</td>\n",
       "      <td>up</td>\n",
       "    </tr>\n",
       "    <tr>\n",
       "      <th>211</th>\n",
       "      <td>2022-10-27</td>\n",
       "      <td>([], [], [], [], [], [])</td>\n",
       "      <td>[]</td>\n",
       "      <td>up</td>\n",
       "    </tr>\n",
       "  </tbody>\n",
       "</table>\n",
       "<p>212 rows × 4 columns</p>\n",
       "</div>"
      ],
      "text/plain": [
       "           date                                            content  \\\n",
       "0    2012-01-13  (['일부 위원은 최근 건설투자 등 일부 경제지표  가 지난해 12월 예상했던 것보...   \n",
       "1    2012-01-26                           ([], [], [], [], [], [])   \n",
       "2    2012-02-09  (['일부 위원은 최근 국내경제의 성장 모멘  텀이 다소 약화되고 있으며, 특히 소...   \n",
       "3    2012-03-08  (['일부 위원은 최근의 선진국 및 개도국  경제상황 변화와 관련하여 우리나라의 1...   \n",
       "4    2012-03-22                           ([], [], [], [], [], [])   \n",
       "..          ...                                                ...   \n",
       "207  2022-08-25  (['일부 위원은 우리나라와 미국에서 주거비 변동이 물가에 어떠한 영향을 미치  고...   \n",
       "208  2022-09-08                           ([], [], [], [], [], [])   \n",
       "209  2022-09-22                           ([], [], [], [], [], [])   \n",
       "210  2022-10-12  (['일부 위원은 경제전망 시 금리지표로 어떠한 시장금리를 사용하는지, 그리고  금...   \n",
       "211  2022-10-27                           ([], [], [], [], [], [])   \n",
       "\n",
       "                                                 ngram label  \n",
       "0    [당분간/MAG;수요측면/NNG;물가/NNG;상승/NNG;압력/NNG, 물가/NNG...    up  \n",
       "1                                                   []    up  \n",
       "2    [인플레이션/NNG;기대/NNG;지역/NNG;지정학/NNG;위험/NNG, 경제/NN...  same  \n",
       "3    [농산물/NNG;제외/NNG;근원/NNG;인플레이션/NNG;하락/NNG, 인플레이션...  down  \n",
       "4                                                   []  same  \n",
       "..                                                 ...   ...  \n",
       "207  [국제/NNG;유가/NNG;원자재/NNG;가격/NNG;하락/NNG, 금리/NNG;인...    up  \n",
       "208                                                 []    up  \n",
       "209                                                 []    up  \n",
       "210  [물가/NNG;상승률/NNG;국제/NNG;유가/NNG;하락/NNG, 글로벌/NNG;...    up  \n",
       "211                                                 []    up  \n",
       "\n",
       "[212 rows x 4 columns]"
      ]
     },
     "execution_count": 201,
     "metadata": {},
     "output_type": "execute_result"
    }
   ],
   "source": [
    "minutes"
   ]
  },
  {
   "cell_type": "code",
   "execution_count": 176,
   "metadata": {},
   "outputs": [
    {
     "ename": "KeyError",
     "evalue": "'[204] not found in axis'",
     "output_type": "error",
     "traceback": [
      "\u001b[0;31m---------------------------------------------------------------------------\u001b[0m",
      "\u001b[0;31mKeyError\u001b[0m                                  Traceback (most recent call last)",
      "Cell \u001b[0;32mIn [176], line 1\u001b[0m\n\u001b[0;32m----> 1\u001b[0m minutes\u001b[38;5;241m.\u001b[39mdrop([\u001b[38;5;241m204\u001b[39m],inplace\u001b[38;5;241m=\u001b[39m\u001b[38;5;28;01mTrue\u001b[39;00m)\n",
      "File \u001b[0;32m~/Library/Python/3.9/lib/python/site-packages/pandas/util/_decorators.py:331\u001b[0m, in \u001b[0;36mdeprecate_nonkeyword_arguments.<locals>.decorate.<locals>.wrapper\u001b[0;34m(*args, **kwargs)\u001b[0m\n\u001b[1;32m    325\u001b[0m \u001b[39mif\u001b[39;00m \u001b[39mlen\u001b[39m(args) \u001b[39m>\u001b[39m num_allow_args:\n\u001b[1;32m    326\u001b[0m     warnings\u001b[39m.\u001b[39mwarn(\n\u001b[1;32m    327\u001b[0m         msg\u001b[39m.\u001b[39mformat(arguments\u001b[39m=\u001b[39m_format_argument_list(allow_args)),\n\u001b[1;32m    328\u001b[0m         \u001b[39mFutureWarning\u001b[39;00m,\n\u001b[1;32m    329\u001b[0m         stacklevel\u001b[39m=\u001b[39mfind_stack_level(),\n\u001b[1;32m    330\u001b[0m     )\n\u001b[0;32m--> 331\u001b[0m \u001b[39mreturn\u001b[39;00m func(\u001b[39m*\u001b[39;49margs, \u001b[39m*\u001b[39;49m\u001b[39m*\u001b[39;49mkwargs)\n",
      "File \u001b[0;32m~/Library/Python/3.9/lib/python/site-packages/pandas/core/frame.py:5388\u001b[0m, in \u001b[0;36mDataFrame.drop\u001b[0;34m(self, labels, axis, index, columns, level, inplace, errors)\u001b[0m\n\u001b[1;32m   5240\u001b[0m \u001b[39m@deprecate_nonkeyword_arguments\u001b[39m(version\u001b[39m=\u001b[39m\u001b[39mNone\u001b[39;00m, allowed_args\u001b[39m=\u001b[39m[\u001b[39m\"\u001b[39m\u001b[39mself\u001b[39m\u001b[39m\"\u001b[39m, \u001b[39m\"\u001b[39m\u001b[39mlabels\u001b[39m\u001b[39m\"\u001b[39m])\n\u001b[1;32m   5241\u001b[0m \u001b[39mdef\u001b[39;00m \u001b[39mdrop\u001b[39m(  \u001b[39m# type: ignore[override]\u001b[39;00m\n\u001b[1;32m   5242\u001b[0m     \u001b[39mself\u001b[39m,\n\u001b[0;32m   (...)\u001b[0m\n\u001b[1;32m   5249\u001b[0m     errors: IgnoreRaise \u001b[39m=\u001b[39m \u001b[39m\"\u001b[39m\u001b[39mraise\u001b[39m\u001b[39m\"\u001b[39m,\n\u001b[1;32m   5250\u001b[0m ) \u001b[39m-\u001b[39m\u001b[39m>\u001b[39m DataFrame \u001b[39m|\u001b[39m \u001b[39mNone\u001b[39;00m:\n\u001b[1;32m   5251\u001b[0m     \u001b[39m\"\"\"\u001b[39;00m\n\u001b[1;32m   5252\u001b[0m \u001b[39m    Drop specified labels from rows or columns.\u001b[39;00m\n\u001b[1;32m   5253\u001b[0m \n\u001b[0;32m   (...)\u001b[0m\n\u001b[1;32m   5386\u001b[0m \u001b[39m            weight  1.0     0.8\u001b[39;00m\n\u001b[1;32m   5387\u001b[0m \u001b[39m    \"\"\"\u001b[39;00m\n\u001b[0;32m-> 5388\u001b[0m     \u001b[39mreturn\u001b[39;00m \u001b[39msuper\u001b[39;49m()\u001b[39m.\u001b[39;49mdrop(\n\u001b[1;32m   5389\u001b[0m         labels\u001b[39m=\u001b[39;49mlabels,\n\u001b[1;32m   5390\u001b[0m         axis\u001b[39m=\u001b[39;49maxis,\n\u001b[1;32m   5391\u001b[0m         index\u001b[39m=\u001b[39;49mindex,\n\u001b[1;32m   5392\u001b[0m         columns\u001b[39m=\u001b[39;49mcolumns,\n\u001b[1;32m   5393\u001b[0m         level\u001b[39m=\u001b[39;49mlevel,\n\u001b[1;32m   5394\u001b[0m         inplace\u001b[39m=\u001b[39;49minplace,\n\u001b[1;32m   5395\u001b[0m         errors\u001b[39m=\u001b[39;49merrors,\n\u001b[1;32m   5396\u001b[0m     )\n",
      "File \u001b[0;32m~/Library/Python/3.9/lib/python/site-packages/pandas/util/_decorators.py:331\u001b[0m, in \u001b[0;36mdeprecate_nonkeyword_arguments.<locals>.decorate.<locals>.wrapper\u001b[0;34m(*args, **kwargs)\u001b[0m\n\u001b[1;32m    325\u001b[0m \u001b[39mif\u001b[39;00m \u001b[39mlen\u001b[39m(args) \u001b[39m>\u001b[39m num_allow_args:\n\u001b[1;32m    326\u001b[0m     warnings\u001b[39m.\u001b[39mwarn(\n\u001b[1;32m    327\u001b[0m         msg\u001b[39m.\u001b[39mformat(arguments\u001b[39m=\u001b[39m_format_argument_list(allow_args)),\n\u001b[1;32m    328\u001b[0m         \u001b[39mFutureWarning\u001b[39;00m,\n\u001b[1;32m    329\u001b[0m         stacklevel\u001b[39m=\u001b[39mfind_stack_level(),\n\u001b[1;32m    330\u001b[0m     )\n\u001b[0;32m--> 331\u001b[0m \u001b[39mreturn\u001b[39;00m func(\u001b[39m*\u001b[39;49margs, \u001b[39m*\u001b[39;49m\u001b[39m*\u001b[39;49mkwargs)\n",
      "File \u001b[0;32m~/Library/Python/3.9/lib/python/site-packages/pandas/core/generic.py:4505\u001b[0m, in \u001b[0;36mNDFrame.drop\u001b[0;34m(self, labels, axis, index, columns, level, inplace, errors)\u001b[0m\n\u001b[1;32m   4503\u001b[0m \u001b[39mfor\u001b[39;00m axis, labels \u001b[39min\u001b[39;00m axes\u001b[39m.\u001b[39mitems():\n\u001b[1;32m   4504\u001b[0m     \u001b[39mif\u001b[39;00m labels \u001b[39mis\u001b[39;00m \u001b[39mnot\u001b[39;00m \u001b[39mNone\u001b[39;00m:\n\u001b[0;32m-> 4505\u001b[0m         obj \u001b[39m=\u001b[39m obj\u001b[39m.\u001b[39;49m_drop_axis(labels, axis, level\u001b[39m=\u001b[39;49mlevel, errors\u001b[39m=\u001b[39;49merrors)\n\u001b[1;32m   4507\u001b[0m \u001b[39mif\u001b[39;00m inplace:\n\u001b[1;32m   4508\u001b[0m     \u001b[39mself\u001b[39m\u001b[39m.\u001b[39m_update_inplace(obj)\n",
      "File \u001b[0;32m~/Library/Python/3.9/lib/python/site-packages/pandas/core/generic.py:4546\u001b[0m, in \u001b[0;36mNDFrame._drop_axis\u001b[0;34m(self, labels, axis, level, errors, only_slice)\u001b[0m\n\u001b[1;32m   4544\u001b[0m         new_axis \u001b[39m=\u001b[39m axis\u001b[39m.\u001b[39mdrop(labels, level\u001b[39m=\u001b[39mlevel, errors\u001b[39m=\u001b[39merrors)\n\u001b[1;32m   4545\u001b[0m     \u001b[39melse\u001b[39;00m:\n\u001b[0;32m-> 4546\u001b[0m         new_axis \u001b[39m=\u001b[39m axis\u001b[39m.\u001b[39;49mdrop(labels, errors\u001b[39m=\u001b[39;49merrors)\n\u001b[1;32m   4547\u001b[0m     indexer \u001b[39m=\u001b[39m axis\u001b[39m.\u001b[39mget_indexer(new_axis)\n\u001b[1;32m   4549\u001b[0m \u001b[39m# Case for non-unique axis\u001b[39;00m\n\u001b[1;32m   4550\u001b[0m \u001b[39melse\u001b[39;00m:\n",
      "File \u001b[0;32m~/Library/Python/3.9/lib/python/site-packages/pandas/core/indexes/base.py:6975\u001b[0m, in \u001b[0;36mIndex.drop\u001b[0;34m(self, labels, errors)\u001b[0m\n\u001b[1;32m   6973\u001b[0m \u001b[39mif\u001b[39;00m mask\u001b[39m.\u001b[39many():\n\u001b[1;32m   6974\u001b[0m     \u001b[39mif\u001b[39;00m errors \u001b[39m!=\u001b[39m \u001b[39m\"\u001b[39m\u001b[39mignore\u001b[39m\u001b[39m\"\u001b[39m:\n\u001b[0;32m-> 6975\u001b[0m         \u001b[39mraise\u001b[39;00m \u001b[39mKeyError\u001b[39;00m(\u001b[39mf\u001b[39m\u001b[39m\"\u001b[39m\u001b[39m{\u001b[39;00m\u001b[39mlist\u001b[39m(labels[mask])\u001b[39m}\u001b[39;00m\u001b[39m not found in axis\u001b[39m\u001b[39m\"\u001b[39m)\n\u001b[1;32m   6976\u001b[0m     indexer \u001b[39m=\u001b[39m indexer[\u001b[39m~\u001b[39mmask]\n\u001b[1;32m   6977\u001b[0m \u001b[39mreturn\u001b[39;00m \u001b[39mself\u001b[39m\u001b[39m.\u001b[39mdelete(indexer)\n",
      "\u001b[0;31mKeyError\u001b[0m: '[204] not found in axis'"
     ]
    }
   ],
   "source": [
    "minutes.drop([2],inplace=True)\n",
    "minutes.drop([4],inplace=True)\n",
    "minutes.drop([8],inplace=True)\n",
    "minutes.drop([10],inplace=True)\n",
    "minutes.drop([13],inplace=True)\n",
    "minutes.drop([15],inplace=True)\n",
    "minutes.drop([18],inplace=True)\n",
    "minutes.drop([21],inplace=True)\n",
    "minutes.drop([23],inplace=True)\n",
    "minutes.drop([25],inplace=True)\n",
    "minutes.drop([28],inplace=True)\n",
    "minutes.drop([30],inplace=True)\n",
    "minutes.drop([33],inplace=True)\n",
    "minutes.drop([35],inplace=True)\n",
    "minutes.drop([38],inplace=True)\n",
    "minutes.drop([42],inplace=True)\n",
    "minutes.drop([44],inplace=True)\n",
    "minutes.drop([48],inplace=True)\n",
    "minutes.drop([51],inplace=True)\n",
    "minutes.drop([53],inplace=True)\n",
    "minutes.drop([56],inplace=True)\n",
    "minutes.drop([58],inplace=True)\n",
    "minutes.drop([61],inplace=True)\n",
    "minutes.drop([63],inplace=True)\n",
    "minutes.drop([66],inplace=True)\n",
    "minutes.drop([68],inplace=True)\n",
    "minutes.drop([70],inplace=True)\n",
    "minutes.drop([72],inplace=True)\n",
    "minutes.drop([74],inplace=True)\n",
    "minutes.drop([76],inplace=True)\n",
    "minutes.drop([78],inplace=True)\n",
    "minutes.drop([79],inplace=True)\n",
    "minutes.drop([81],inplace=True)\n",
    "minutes.drop([83],inplace=True)\n",
    "minutes.drop([85],inplace=True)\n",
    "minutes.drop([89],inplace=True)\n",
    "minutes.drop([90],inplace=True)\n",
    "minutes.drop([94],inplace=True)\n",
    "minutes.drop([96],inplace=True)\n",
    "minutes.drop([98],inplace=True)\n",
    "minutes.drop([100],inplace=True)\n",
    "minutes.drop([101],inplace=True)\n",
    "minutes.drop([103],inplace=True)\n",
    "minutes.drop([105],inplace=True)\n",
    "minutes.drop([107],inplace=True)\n",
    "minutes.drop([109],inplace=True)\n",
    "minutes.drop([113],inplace=True)\n",
    "minutes.drop([115],inplace=True)\n",
    "minutes.drop([117],inplace=True)\n",
    "minutes.drop([118],inplace=True)\n",
    "minutes.drop([119],inplace=True)\n",
    "minutes.drop([121],inplace=True)\n",
    "minutes.drop([123],inplace=True)\n",
    "minutes.drop([124],inplace=True)\n",
    "minutes.drop([126],inplace=True)\n",
    "minutes.drop([128],inplace=True)\n",
    "minutes.drop([130],inplace=True)\n",
    "minutes.drop([132],inplace=True)\n",
    "minutes.drop([134],inplace=True)\n",
    "minutes.drop([136],inplace=True)\n",
    "minutes.drop([137],inplace=True)\n",
    "minutes.drop([138],inplace=True)\n",
    "minutes.drop([139],inplace=True)\n",
    "minutes.drop([141],inplace=True)\n",
    "minutes.drop([143],inplace=True)\n",
    "minutes.drop([145],inplace=True)\n",
    "minutes.drop([147],inplace=True)\n",
    "minutes.drop([149],inplace=True)\n",
    "minutes.drop([151],inplace=True)\n",
    "minutes.drop([154],inplace=True)\n",
    "minutes.drop([155],inplace=True)\n",
    "minutes.drop([158],inplace=True)\n",
    "minutes.drop([159],inplace=True)\n",
    "minutes.drop([160],inplace=True)\n",
    "minutes.drop([162],inplace=True)\n",
    "minutes.drop([163],inplace=True)\n",
    "minutes.drop([165],inplace=True)\n",
    "minutes.drop([166],inplace=True)\n",
    "minutes.drop([168],inplace=True)\n",
    "minutes.drop([169],inplace=True)\n",
    "minutes.drop([171],inplace=True)\n",
    "minutes.drop([172],inplace=True)\n",
    "minutes.drop([174],inplace=True)\n",
    "minutes.drop([176],inplace=True)\n",
    "minutes.drop([177],inplace=True)\n",
    "minutes.drop([179],inplace=True)\n",
    "minutes.drop([181],inplace=True)\n",
    "minutes.drop([182],inplace=True)\n",
    "minutes.drop([185],inplace=True)\n",
    "minutes.drop([186],inplace=True)\n",
    "minutes.drop([187],inplace=True)\n",
    "minutes.drop([189],inplace=True)\n",
    "minutes.drop([191],inplace=True)\n",
    "minutes.drop([192],inplace=True)\n",
    "minutes.drop([195],inplace=True)\n",
    "minutes.drop([196],inplace=True)\n",
    "minutes.drop([199],inplace=True)\n",
    "minutes.drop([200],inplace=True)\n",
    "minutes.drop([203],inplace=True)\n",
    "minutes.drop([204],inplace=True)\n",
    "minutes.drop([206],inplace=True)\n",
    "minutes.drop([208],inplace=True)\n",
    "minutes.drop([209],inplace=True)\n",
    "minutes.drop([211],inplace=True)"
   ]
  },
  {
   "cell_type": "code",
   "execution_count": 177,
   "metadata": {},
   "outputs": [
    {
     "data": {
      "text/html": [
       "<div>\n",
       "<style scoped>\n",
       "    .dataframe tbody tr th:only-of-type {\n",
       "        vertical-align: middle;\n",
       "    }\n",
       "\n",
       "    .dataframe tbody tr th {\n",
       "        vertical-align: top;\n",
       "    }\n",
       "\n",
       "    .dataframe thead th {\n",
       "        text-align: right;\n",
       "    }\n",
       "</style>\n",
       "<table border=\"1\" class=\"dataframe\">\n",
       "  <thead>\n",
       "    <tr style=\"text-align: right;\">\n",
       "      <th></th>\n",
       "      <th>date</th>\n",
       "      <th>content</th>\n",
       "      <th>ngram</th>\n",
       "      <th>label</th>\n",
       "    </tr>\n",
       "  </thead>\n",
       "  <tbody>\n",
       "    <tr>\n",
       "      <th>0</th>\n",
       "      <td>2012-01-13</td>\n",
       "      <td>(['일부 위원은 최근 건설투자 등 일부 경제지표  가 지난해 12월 예상했던 것보...</td>\n",
       "      <td>[당분간/MAG;수요측면/NNG;물가/NNG;상승/NNG;압력/NNG, 물가/NNG...</td>\n",
       "      <td>up</td>\n",
       "    </tr>\n",
       "    <tr>\n",
       "      <th>2</th>\n",
       "      <td>2012-02-09</td>\n",
       "      <td>(['일부 위원은 최근 국내경제의 성장 모멘  텀이 다소 약화되고 있으며, 특히 소...</td>\n",
       "      <td>[인플레이션/NNG;기대/NNG;지역/NNG;지정학/NNG;위험/NNG, 경제/NN...</td>\n",
       "      <td>same</td>\n",
       "    </tr>\n",
       "    <tr>\n",
       "      <th>3</th>\n",
       "      <td>2012-03-08</td>\n",
       "      <td>(['일부 위원은 최근의 선진국 및 개도국  경제상황 변화와 관련하여 우리나라의 1...</td>\n",
       "      <td>[농산물/NNG;제외/NNG;근원/NNG;인플레이션/NNG;하락/NNG, 인플레이션...</td>\n",
       "      <td>down</td>\n",
       "    </tr>\n",
       "    <tr>\n",
       "      <th>5</th>\n",
       "      <td>2012-04-13</td>\n",
       "      <td>(['일부 위원은 금년중 물가가 지난번 전망  시에는 상고하저를 나타낼 것으로 보았...</td>\n",
       "      <td>[인플레이션/NNG;기대/NNG;지역/NNG;지정학/NNG;위험/NNG, 소비자/N...</td>\n",
       "      <td>down</td>\n",
       "    </tr>\n",
       "    <tr>\n",
       "      <th>6</th>\n",
       "      <td>2012-05-10</td>\n",
       "      <td>(['일부 위원은 그동안 금융통화위원회가 유지  해왔던 금리운용의 스탠스를 물가 경...</td>\n",
       "      <td>[소비자/NNG;물가/NNG;상승률/NNG;물가/NNG;안정/NNG, 세계/NNG;...</td>\n",
       "      <td>up</td>\n",
       "    </tr>\n",
       "    <tr>\n",
       "      <th>...</th>\n",
       "      <td>...</td>\n",
       "      <td>...</td>\n",
       "      <td>...</td>\n",
       "      <td>...</td>\n",
       "    </tr>\n",
       "    <tr>\n",
       "      <th>201</th>\n",
       "      <td>2022-04-14</td>\n",
       "      <td>(['일부 위원은 우크라이나 사태, 공급망 차질, 중국의 성장세 둔화 등 다양한 리...</td>\n",
       "      <td>[물가/NNG;상승률/NNG;시장/NNG;예상/NNG;하회/NNG, 하방/NNG;위...</td>\n",
       "      <td>up</td>\n",
       "    </tr>\n",
       "    <tr>\n",
       "      <th>202</th>\n",
       "      <td>2022-05-26</td>\n",
       "      <td>(['일부 위원은 향후 국내외 경제흐름이 인플레이션에 의해 좌우됨에 따라 각국의 통...</td>\n",
       "      <td>[금리/NNG;상승/NNG;금융시장/NNG;변동성/NNG;확대/NNG, 회복/NNG...</td>\n",
       "      <td>up</td>\n",
       "    </tr>\n",
       "    <tr>\n",
       "      <th>205</th>\n",
       "      <td>2022-07-13</td>\n",
       "      <td>(['일부 위원은 세계경제 흐름에 대해 어떻게 평가하고 있는지 관련부서에 물었  음...</td>\n",
       "      <td>[소비자/NNG;물가/NNG;상승률/NNG;물가/NNG;상승/NNG, 경기/NNG;...</td>\n",
       "      <td>up</td>\n",
       "    </tr>\n",
       "    <tr>\n",
       "      <th>207</th>\n",
       "      <td>2022-08-25</td>\n",
       "      <td>(['일부 위원은 우리나라와 미국에서 주거비 변동이 물가에 어떠한 영향을 미치  고...</td>\n",
       "      <td>[국제/NNG;유가/NNG;원자재/NNG;가격/NNG;하락/NNG, 금리/NNG;인...</td>\n",
       "      <td>up</td>\n",
       "    </tr>\n",
       "    <tr>\n",
       "      <th>210</th>\n",
       "      <td>2022-10-12</td>\n",
       "      <td>(['일부 위원은 경제전망 시 금리지표로 어떠한 시장금리를 사용하는지, 그리고  금...</td>\n",
       "      <td>[물가/NNG;상승률/NNG;국제/NNG;유가/NNG;하락/NNG, 글로벌/NNG;...</td>\n",
       "      <td>up</td>\n",
       "    </tr>\n",
       "  </tbody>\n",
       "</table>\n",
       "<p>107 rows × 4 columns</p>\n",
       "</div>"
      ],
      "text/plain": [
       "           date                                            content  \\\n",
       "0    2012-01-13  (['일부 위원은 최근 건설투자 등 일부 경제지표  가 지난해 12월 예상했던 것보...   \n",
       "2    2012-02-09  (['일부 위원은 최근 국내경제의 성장 모멘  텀이 다소 약화되고 있으며, 특히 소...   \n",
       "3    2012-03-08  (['일부 위원은 최근의 선진국 및 개도국  경제상황 변화와 관련하여 우리나라의 1...   \n",
       "5    2012-04-13  (['일부 위원은 금년중 물가가 지난번 전망  시에는 상고하저를 나타낼 것으로 보았...   \n",
       "6    2012-05-10  (['일부 위원은 그동안 금융통화위원회가 유지  해왔던 금리운용의 스탠스를 물가 경...   \n",
       "..          ...                                                ...   \n",
       "201  2022-04-14  (['일부 위원은 우크라이나 사태, 공급망 차질, 중국의 성장세 둔화 등 다양한 리...   \n",
       "202  2022-05-26  (['일부 위원은 향후 국내외 경제흐름이 인플레이션에 의해 좌우됨에 따라 각국의 통...   \n",
       "205  2022-07-13  (['일부 위원은 세계경제 흐름에 대해 어떻게 평가하고 있는지 관련부서에 물었  음...   \n",
       "207  2022-08-25  (['일부 위원은 우리나라와 미국에서 주거비 변동이 물가에 어떠한 영향을 미치  고...   \n",
       "210  2022-10-12  (['일부 위원은 경제전망 시 금리지표로 어떠한 시장금리를 사용하는지, 그리고  금...   \n",
       "\n",
       "                                                 ngram label  \n",
       "0    [당분간/MAG;수요측면/NNG;물가/NNG;상승/NNG;압력/NNG, 물가/NNG...    up  \n",
       "2    [인플레이션/NNG;기대/NNG;지역/NNG;지정학/NNG;위험/NNG, 경제/NN...  same  \n",
       "3    [농산물/NNG;제외/NNG;근원/NNG;인플레이션/NNG;하락/NNG, 인플레이션...  down  \n",
       "5    [인플레이션/NNG;기대/NNG;지역/NNG;지정학/NNG;위험/NNG, 소비자/N...  down  \n",
       "6    [소비자/NNG;물가/NNG;상승률/NNG;물가/NNG;안정/NNG, 세계/NNG;...    up  \n",
       "..                                                 ...   ...  \n",
       "201  [물가/NNG;상승률/NNG;시장/NNG;예상/NNG;하회/NNG, 하방/NNG;위...    up  \n",
       "202  [금리/NNG;상승/NNG;금융시장/NNG;변동성/NNG;확대/NNG, 회복/NNG...    up  \n",
       "205  [소비자/NNG;물가/NNG;상승률/NNG;물가/NNG;상승/NNG, 경기/NNG;...    up  \n",
       "207  [국제/NNG;유가/NNG;원자재/NNG;가격/NNG;하락/NNG, 금리/NNG;인...    up  \n",
       "210  [물가/NNG;상승률/NNG;국제/NNG;유가/NNG;하락/NNG, 글로벌/NNG;...    up  \n",
       "\n",
       "[107 rows x 4 columns]"
      ]
     },
     "execution_count": 177,
     "metadata": {},
     "output_type": "execute_result"
    }
   ],
   "source": [
    "minutes"
   ]
  },
  {
   "cell_type": "code",
   "execution_count": null,
   "metadata": {},
   "outputs": [],
   "source": [
    "minutes.drop(2, axis=0, inplace= True)"
   ]
  },
  {
   "cell_type": "code",
   "execution_count": 180,
   "metadata": {},
   "outputs": [],
   "source": [
    "minutes.to_csv('../data/aaaaaa.csv')"
   ]
  },
  {
   "cell_type": "code",
   "execution_count": 202,
   "metadata": {},
   "outputs": [
    {
     "ename": "AttributeError",
     "evalue": "'StringMethods' object has no attribute 'contain'",
     "output_type": "error",
     "traceback": [
      "\u001b[0;31m---------------------------------------------------------------------------\u001b[0m",
      "\u001b[0;31mAttributeError\u001b[0m                            Traceback (most recent call last)",
      "Cell \u001b[0;32mIn [202], line 1\u001b[0m\n\u001b[0;32m----> 1\u001b[0m a \u001b[38;5;241m=\u001b[39m  minutes[minutes[\u001b[38;5;124m'\u001b[39m\u001b[38;5;124mcontent\u001b[39m\u001b[38;5;124m'\u001b[39m]\u001b[38;5;241m.\u001b[39mstr\u001b[38;5;241m.\u001b[39mcontain(\u001b[38;5;124m'\u001b[39m\u001b[38;5;124m[]\u001b[39m\u001b[38;5;124m'\u001b[39m)]\u001b[38;5;241m.\u001b[39mindex\n\u001b[1;32m      2\u001b[0m minutes\u001b[38;5;241m.\u001b[39mdrop(a, inplace \u001b[38;5;241m=\u001b[39m \u001b[38;5;28;01mTrue\u001b[39;00m)\n",
      "\u001b[0;31mAttributeError\u001b[0m: 'StringMethods' object has no attribute 'contain'"
     ]
    }
   ],
   "source": [
    "a =  minutes[minutes['content'].str.contain('[]')].index\n",
    "minutes.drop(a, inplace = True)\n",
    "\n",
    "# 데이터프레임.reset_index(drop=True, inplace= True)"
   ]
  },
  {
   "cell_type": "code",
   "execution_count": null,
   "metadata": {},
   "outputs": [],
   "source": [
    "new_df = minutes.drop(2, axis=0, inplace= True)"
   ]
  },
  {
   "cell_type": "code",
   "execution_count": 31,
   "metadata": {},
   "outputs": [],
   "source": [
    "new_df"
   ]
  },
  {
   "cell_type": "code",
   "execution_count": null,
   "metadata": {},
   "outputs": [],
   "source": [
    "# spac =  a [a['칼럼명].str.contain('포함된문자')].index\n",
    "# 데이터프레임.drop(spac, inplace = True)\n",
    "\n",
    "# 데이터프레임.reset_index(drop=True, inplace= True)"
   ]
  },
  {
   "cell_type": "markdown",
   "metadata": {},
   "source": [
    "의사록내의 개별 문장에 대한 hawkish/dovish features를 토대로 개별문장 tone을 구한 뒤,  \n",
    "개별문장 톤을 종합해서 문서에 대한 tone을 구한다."
   ]
  },
  {
   "cell_type": "code",
   "execution_count": 187,
   "metadata": {},
   "outputs": [],
   "source": [
    "def tone_sentence(sentence):\n",
    "    n_hawk, n_dove = 0, 0\n",
    "    tokens = mpck.tokenize(sentence)\n",
    "    ngrams = mpck.ngramize(tokens) + tokens\n",
    "    for ngram in ngrams:\n",
    "        n_hawk += list(hawk.ngram).count(ngram)\n",
    "        n_dove += list(dove.ngram).count(ngram)\n",
    "    try:     \n",
    "        result =  (n_hawk - n_dove)/(n_hawk + n_dove)\n",
    "    except:\n",
    "        result = 0 # ZeroDivisionError 처리\n",
    "        \n",
    "    return result\n",
    "\n",
    "def tone_minute(minute):\n",
    "    tone = {'hawk':0,'dove':0}\n",
    "    clean_minute = list(map(str.strip, minute.replace('  ','').split('.')))\n",
    "    for sentence in clean_minute:\n",
    "        if tone_sentence(sentence) > 0:\n",
    "            tone['hawk'] += 1\n",
    "        elif tone_sentence(sentence) < 0:\n",
    "            tone['dove'] += 1\n",
    "            \n",
    "    return (tone['hawk'] - tone['dove']) / (tone['hawk'] + tone['dove'])"
   ]
  },
  {
   "cell_type": "markdown",
   "metadata": {},
   "source": [
    "기준금리와 비교"
   ]
  },
  {
   "cell_type": "code",
   "execution_count": 189,
   "metadata": {},
   "outputs": [
    {
     "data": {
      "application/vnd.jupyter.widget-view+json": {
       "model_id": "6942c6a853c4406da181ac8c152eb9a8",
       "version_major": 2,
       "version_minor": 0
      },
      "text/plain": [
       "  0%|          | 0/107 [00:00<?, ?it/s]"
      ]
     },
     "metadata": {},
     "output_type": "display_data"
    }
   ],
   "source": [
    "from tqdm.notebook import tqdm\n",
    "\n",
    "df_result = minutes\n",
    "\n",
    "for row, minute in enumerate(tqdm(minutes.content)):\n",
    "    df_result.loc[row,'TONE_Doc'] = tone_minute(minute)\n"
   ]
  },
  {
   "cell_type": "code",
   "execution_count": 196,
   "metadata": {},
   "outputs": [
    {
     "ename": "KeyError",
     "evalue": "\"['content', 'ngram', 'label'] not found in axis\"",
     "output_type": "error",
     "traceback": [
      "\u001b[0;31m---------------------------------------------------------------------------\u001b[0m",
      "\u001b[0;31mKeyError\u001b[0m                                  Traceback (most recent call last)",
      "Cell \u001b[0;32mIn [196], line 1\u001b[0m\n\u001b[0;32m----> 1\u001b[0m df_result \u001b[38;5;241m=\u001b[39m df_result\u001b[38;5;241m.\u001b[39mdrop([\u001b[38;5;124m'\u001b[39m\u001b[38;5;124mcontent\u001b[39m\u001b[38;5;124m'\u001b[39m,\u001b[38;5;124m'\u001b[39m\u001b[38;5;124mngram\u001b[39m\u001b[38;5;124m'\u001b[39m,\u001b[38;5;124m'\u001b[39m\u001b[38;5;124mlabel\u001b[39m\u001b[38;5;124m'\u001b[39m], axis\u001b[38;5;241m=\u001b[39m\u001b[38;5;241m1\u001b[39m)\n\u001b[1;32m      2\u001b[0m df_result\u001b[38;5;241m.\u001b[39mto_csv(\u001b[38;5;124m'\u001b[39m\u001b[38;5;124m../data/Tone_doc.csv\u001b[39m\u001b[38;5;124m'\u001b[39m, index \u001b[38;5;241m=\u001b[39m \u001b[38;5;28;01mFalse\u001b[39;00m)\n",
      "File \u001b[0;32m~/Library/Python/3.9/lib/python/site-packages/pandas/util/_decorators.py:331\u001b[0m, in \u001b[0;36mdeprecate_nonkeyword_arguments.<locals>.decorate.<locals>.wrapper\u001b[0;34m(*args, **kwargs)\u001b[0m\n\u001b[1;32m    325\u001b[0m \u001b[39mif\u001b[39;00m \u001b[39mlen\u001b[39m(args) \u001b[39m>\u001b[39m num_allow_args:\n\u001b[1;32m    326\u001b[0m     warnings\u001b[39m.\u001b[39mwarn(\n\u001b[1;32m    327\u001b[0m         msg\u001b[39m.\u001b[39mformat(arguments\u001b[39m=\u001b[39m_format_argument_list(allow_args)),\n\u001b[1;32m    328\u001b[0m         \u001b[39mFutureWarning\u001b[39;00m,\n\u001b[1;32m    329\u001b[0m         stacklevel\u001b[39m=\u001b[39mfind_stack_level(),\n\u001b[1;32m    330\u001b[0m     )\n\u001b[0;32m--> 331\u001b[0m \u001b[39mreturn\u001b[39;00m func(\u001b[39m*\u001b[39;49margs, \u001b[39m*\u001b[39;49m\u001b[39m*\u001b[39;49mkwargs)\n",
      "File \u001b[0;32m~/Library/Python/3.9/lib/python/site-packages/pandas/core/frame.py:5388\u001b[0m, in \u001b[0;36mDataFrame.drop\u001b[0;34m(self, labels, axis, index, columns, level, inplace, errors)\u001b[0m\n\u001b[1;32m   5240\u001b[0m \u001b[39m@deprecate_nonkeyword_arguments\u001b[39m(version\u001b[39m=\u001b[39m\u001b[39mNone\u001b[39;00m, allowed_args\u001b[39m=\u001b[39m[\u001b[39m\"\u001b[39m\u001b[39mself\u001b[39m\u001b[39m\"\u001b[39m, \u001b[39m\"\u001b[39m\u001b[39mlabels\u001b[39m\u001b[39m\"\u001b[39m])\n\u001b[1;32m   5241\u001b[0m \u001b[39mdef\u001b[39;00m \u001b[39mdrop\u001b[39m(  \u001b[39m# type: ignore[override]\u001b[39;00m\n\u001b[1;32m   5242\u001b[0m     \u001b[39mself\u001b[39m,\n\u001b[0;32m   (...)\u001b[0m\n\u001b[1;32m   5249\u001b[0m     errors: IgnoreRaise \u001b[39m=\u001b[39m \u001b[39m\"\u001b[39m\u001b[39mraise\u001b[39m\u001b[39m\"\u001b[39m,\n\u001b[1;32m   5250\u001b[0m ) \u001b[39m-\u001b[39m\u001b[39m>\u001b[39m DataFrame \u001b[39m|\u001b[39m \u001b[39mNone\u001b[39;00m:\n\u001b[1;32m   5251\u001b[0m     \u001b[39m\"\"\"\u001b[39;00m\n\u001b[1;32m   5252\u001b[0m \u001b[39m    Drop specified labels from rows or columns.\u001b[39;00m\n\u001b[1;32m   5253\u001b[0m \n\u001b[0;32m   (...)\u001b[0m\n\u001b[1;32m   5386\u001b[0m \u001b[39m            weight  1.0     0.8\u001b[39;00m\n\u001b[1;32m   5387\u001b[0m \u001b[39m    \"\"\"\u001b[39;00m\n\u001b[0;32m-> 5388\u001b[0m     \u001b[39mreturn\u001b[39;00m \u001b[39msuper\u001b[39;49m()\u001b[39m.\u001b[39;49mdrop(\n\u001b[1;32m   5389\u001b[0m         labels\u001b[39m=\u001b[39;49mlabels,\n\u001b[1;32m   5390\u001b[0m         axis\u001b[39m=\u001b[39;49maxis,\n\u001b[1;32m   5391\u001b[0m         index\u001b[39m=\u001b[39;49mindex,\n\u001b[1;32m   5392\u001b[0m         columns\u001b[39m=\u001b[39;49mcolumns,\n\u001b[1;32m   5393\u001b[0m         level\u001b[39m=\u001b[39;49mlevel,\n\u001b[1;32m   5394\u001b[0m         inplace\u001b[39m=\u001b[39;49minplace,\n\u001b[1;32m   5395\u001b[0m         errors\u001b[39m=\u001b[39;49merrors,\n\u001b[1;32m   5396\u001b[0m     )\n",
      "File \u001b[0;32m~/Library/Python/3.9/lib/python/site-packages/pandas/util/_decorators.py:331\u001b[0m, in \u001b[0;36mdeprecate_nonkeyword_arguments.<locals>.decorate.<locals>.wrapper\u001b[0;34m(*args, **kwargs)\u001b[0m\n\u001b[1;32m    325\u001b[0m \u001b[39mif\u001b[39;00m \u001b[39mlen\u001b[39m(args) \u001b[39m>\u001b[39m num_allow_args:\n\u001b[1;32m    326\u001b[0m     warnings\u001b[39m.\u001b[39mwarn(\n\u001b[1;32m    327\u001b[0m         msg\u001b[39m.\u001b[39mformat(arguments\u001b[39m=\u001b[39m_format_argument_list(allow_args)),\n\u001b[1;32m    328\u001b[0m         \u001b[39mFutureWarning\u001b[39;00m,\n\u001b[1;32m    329\u001b[0m         stacklevel\u001b[39m=\u001b[39mfind_stack_level(),\n\u001b[1;32m    330\u001b[0m     )\n\u001b[0;32m--> 331\u001b[0m \u001b[39mreturn\u001b[39;00m func(\u001b[39m*\u001b[39;49margs, \u001b[39m*\u001b[39;49m\u001b[39m*\u001b[39;49mkwargs)\n",
      "File \u001b[0;32m~/Library/Python/3.9/lib/python/site-packages/pandas/core/generic.py:4505\u001b[0m, in \u001b[0;36mNDFrame.drop\u001b[0;34m(self, labels, axis, index, columns, level, inplace, errors)\u001b[0m\n\u001b[1;32m   4503\u001b[0m \u001b[39mfor\u001b[39;00m axis, labels \u001b[39min\u001b[39;00m axes\u001b[39m.\u001b[39mitems():\n\u001b[1;32m   4504\u001b[0m     \u001b[39mif\u001b[39;00m labels \u001b[39mis\u001b[39;00m \u001b[39mnot\u001b[39;00m \u001b[39mNone\u001b[39;00m:\n\u001b[0;32m-> 4505\u001b[0m         obj \u001b[39m=\u001b[39m obj\u001b[39m.\u001b[39;49m_drop_axis(labels, axis, level\u001b[39m=\u001b[39;49mlevel, errors\u001b[39m=\u001b[39;49merrors)\n\u001b[1;32m   4507\u001b[0m \u001b[39mif\u001b[39;00m inplace:\n\u001b[1;32m   4508\u001b[0m     \u001b[39mself\u001b[39m\u001b[39m.\u001b[39m_update_inplace(obj)\n",
      "File \u001b[0;32m~/Library/Python/3.9/lib/python/site-packages/pandas/core/generic.py:4546\u001b[0m, in \u001b[0;36mNDFrame._drop_axis\u001b[0;34m(self, labels, axis, level, errors, only_slice)\u001b[0m\n\u001b[1;32m   4544\u001b[0m         new_axis \u001b[39m=\u001b[39m axis\u001b[39m.\u001b[39mdrop(labels, level\u001b[39m=\u001b[39mlevel, errors\u001b[39m=\u001b[39merrors)\n\u001b[1;32m   4545\u001b[0m     \u001b[39melse\u001b[39;00m:\n\u001b[0;32m-> 4546\u001b[0m         new_axis \u001b[39m=\u001b[39m axis\u001b[39m.\u001b[39;49mdrop(labels, errors\u001b[39m=\u001b[39;49merrors)\n\u001b[1;32m   4547\u001b[0m     indexer \u001b[39m=\u001b[39m axis\u001b[39m.\u001b[39mget_indexer(new_axis)\n\u001b[1;32m   4549\u001b[0m \u001b[39m# Case for non-unique axis\u001b[39;00m\n\u001b[1;32m   4550\u001b[0m \u001b[39melse\u001b[39;00m:\n",
      "File \u001b[0;32m~/Library/Python/3.9/lib/python/site-packages/pandas/core/indexes/base.py:6975\u001b[0m, in \u001b[0;36mIndex.drop\u001b[0;34m(self, labels, errors)\u001b[0m\n\u001b[1;32m   6973\u001b[0m \u001b[39mif\u001b[39;00m mask\u001b[39m.\u001b[39many():\n\u001b[1;32m   6974\u001b[0m     \u001b[39mif\u001b[39;00m errors \u001b[39m!=\u001b[39m \u001b[39m\"\u001b[39m\u001b[39mignore\u001b[39m\u001b[39m\"\u001b[39m:\n\u001b[0;32m-> 6975\u001b[0m         \u001b[39mraise\u001b[39;00m \u001b[39mKeyError\u001b[39;00m(\u001b[39mf\u001b[39m\u001b[39m\"\u001b[39m\u001b[39m{\u001b[39;00m\u001b[39mlist\u001b[39m(labels[mask])\u001b[39m}\u001b[39;00m\u001b[39m not found in axis\u001b[39m\u001b[39m\"\u001b[39m)\n\u001b[1;32m   6976\u001b[0m     indexer \u001b[39m=\u001b[39m indexer[\u001b[39m~\u001b[39mmask]\n\u001b[1;32m   6977\u001b[0m \u001b[39mreturn\u001b[39;00m \u001b[39mself\u001b[39m\u001b[39m.\u001b[39mdelete(indexer)\n",
      "\u001b[0;31mKeyError\u001b[0m: \"['content', 'ngram', 'label'] not found in axis\""
     ]
    }
   ],
   "source": [
    "df_result = df_result.drop(['content','ngram','label'], axis=1)\n",
    "df_result.to_csv('../data/Tone_doc.csv', index = False)"
   ]
  },
  {
   "cell_type": "code",
   "execution_count": 192,
   "metadata": {},
   "outputs": [
    {
     "data": {
      "text/html": [
       "<div>\n",
       "<style scoped>\n",
       "    .dataframe tbody tr th:only-of-type {\n",
       "        vertical-align: middle;\n",
       "    }\n",
       "\n",
       "    .dataframe tbody tr th {\n",
       "        vertical-align: top;\n",
       "    }\n",
       "\n",
       "    .dataframe thead th {\n",
       "        text-align: right;\n",
       "    }\n",
       "</style>\n",
       "<table border=\"1\" class=\"dataframe\">\n",
       "  <thead>\n",
       "    <tr style=\"text-align: right;\">\n",
       "      <th></th>\n",
       "      <th>TONE_Doc</th>\n",
       "    </tr>\n",
       "  </thead>\n",
       "  <tbody>\n",
       "    <tr>\n",
       "      <th>0</th>\n",
       "      <td>0.252747</td>\n",
       "    </tr>\n",
       "    <tr>\n",
       "      <th>1</th>\n",
       "      <td>0.166667</td>\n",
       "    </tr>\n",
       "    <tr>\n",
       "      <th>2</th>\n",
       "      <td>0.043478</td>\n",
       "    </tr>\n",
       "    <tr>\n",
       "      <th>3</th>\n",
       "      <td>-0.129944</td>\n",
       "    </tr>\n",
       "    <tr>\n",
       "      <th>4</th>\n",
       "      <td>-0.010989</td>\n",
       "    </tr>\n",
       "  </tbody>\n",
       "</table>\n",
       "</div>"
      ],
      "text/plain": [
       "   TONE_Doc\n",
       "0  0.252747\n",
       "1  0.166667\n",
       "2  0.043478\n",
       "3 -0.129944\n",
       "4 -0.010989"
      ]
     },
     "execution_count": 192,
     "metadata": {},
     "output_type": "execute_result"
    }
   ],
   "source": [
    "df_result.head()"
   ]
  },
  {
   "cell_type": "code",
   "execution_count": null,
   "metadata": {},
   "outputs": [],
   "source": [
    "print('Hawkish: ',(df_result.TONE_Doc > 0).sum())\n",
    "print('Dovish: ',(df_result.TONE_Doc < 0).sum())"
   ]
  }
 ],
 "metadata": {
  "kernelspec": {
   "display_name": "Python 3.9.6 64-bit",
   "language": "python",
   "name": "python3"
  },
  "language_info": {
   "codemirror_mode": {
    "name": "ipython",
    "version": 3
   },
   "file_extension": ".py",
   "mimetype": "text/x-python",
   "name": "python",
   "nbconvert_exporter": "python",
   "pygments_lexer": "ipython3",
   "version": "3.9.6"
  },
  "vscode": {
   "interpreter": {
    "hash": "31f2aee4e71d21fbe5cf8b01ff0e069b9275f58929596ceb00d14d90e3e16cd6"
   }
  }
 },
 "nbformat": 4,
 "nbformat_minor": 4
}
